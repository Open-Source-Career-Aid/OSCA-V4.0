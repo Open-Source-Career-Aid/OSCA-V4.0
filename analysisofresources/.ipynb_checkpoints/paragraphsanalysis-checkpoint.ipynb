{
 "cells": [
  {
   "cell_type": "code",
   "execution_count": 56,
   "metadata": {},
   "outputs": [],
   "source": [
    "import pandas as pd\n",
    "from sklearn.feature_extraction.text import CountVectorizer\n",
    "from IPython.display import clear_output\n",
    "import numpy as np\n",
    "import pickle"
   ]
  },
  {
   "cell_type": "code",
   "execution_count": 43,
   "metadata": {},
   "outputs": [],
   "source": [
    "paragraphs = pd.read_pickle('/Users/chinmayshrivastava/Desktop/OSCA/V4.0/scraping/paragraphs.pickle')\n",
    "kwid = pd.read_pickle('/Users/chinmayshrivastava/Desktop/OSCA/V4.0/analysisofkeyelements/kwid.pickle')\n",
    "kwdata = pd.read_pickle('/Users/chinmayshrivastava/Desktop/OSCA/V4.0/analysisofkeyelements/synonymsdata.pickle')"
   ]
  },
  {
   "cell_type": "code",
   "execution_count": 42,
   "metadata": {},
   "outputs": [],
   "source": [
    "def updatedict(somedict):\n",
    "    from nltk import everygrams\n",
    "    tempd = {}\n",
    "    somedictlist = sorted(somedict, key=len)\n",
    "    for element in somedictlist:\n",
    "        temp = everygrams(element.split(' '), max_len=len(element.split(' '))-1)\n",
    "        temp = sorted(temp, key=len)\n",
    "        temp = [' '.join(element) for element in temp]\n",
    "        for ele in temp:\n",
    "            if ele not in tempd:\n",
    "                tempd[ele] = somedict[element]\n",
    "            else:\n",
    "                continue\n",
    "    for element in tempd:\n",
    "        if element in somedict:\n",
    "            somedict[element] -= tempd[element]\n",
    "    return somedict"
   ]
  },
  {
   "cell_type": "code",
   "execution_count": 16,
   "metadata": {},
   "outputs": [
    {
     "data": {
      "text/html": [
       "<div>\n",
       "<style scoped>\n",
       "    .dataframe tbody tr th:only-of-type {\n",
       "        vertical-align: middle;\n",
       "    }\n",
       "\n",
       "    .dataframe tbody tr th {\n",
       "        vertical-align: top;\n",
       "    }\n",
       "\n",
       "    .dataframe thead th {\n",
       "        text-align: right;\n",
       "    }\n",
       "</style>\n",
       "<table border=\"1\" class=\"dataframe\">\n",
       "  <thead>\n",
       "    <tr style=\"text-align: right;\">\n",
       "      <th></th>\n",
       "      <th>tag</th>\n",
       "      <th>text</th>\n",
       "    </tr>\n",
       "  </thead>\n",
       "  <tbody>\n",
       "    <tr>\n",
       "      <th>0</th>\n",
       "      <td>p</td>\n",
       "      <td>Covering the latest events, insights and views...</td>\n",
       "    </tr>\n",
       "    <tr>\n",
       "      <th>1</th>\n",
       "      <td>p</td>\n",
       "      <td>Coub.com, a micro-video streaming social netwo...</td>\n",
       "    </tr>\n",
       "    <tr>\n",
       "      <th>2</th>\n",
       "      <td>p</td>\n",
       "      <td>Coub is a video-sharing website that is access...</td>\n",
       "    </tr>\n",
       "    <tr>\n",
       "      <th>3</th>\n",
       "      <td>p</td>\n",
       "      <td>On Coub, users can take any video, trim the be...</td>\n",
       "    </tr>\n",
       "    <tr>\n",
       "      <th>4</th>\n",
       "      <td>p</td>\n",
       "      <td>In order to preserve the intrinsic fluidity of...</td>\n",
       "    </tr>\n",
       "  </tbody>\n",
       "</table>\n",
       "</div>"
      ],
      "text/plain": [
       "  tag                                               text\n",
       "0   p  Covering the latest events, insights and views...\n",
       "1   p  Coub.com, a micro-video streaming social netwo...\n",
       "2   p  Coub is a video-sharing website that is access...\n",
       "3   p  On Coub, users can take any video, trim the be...\n",
       "4   p  In order to preserve the intrinsic fluidity of..."
      ]
     },
     "execution_count": 16,
     "metadata": {},
     "output_type": "execute_result"
    }
   ],
   "source": [
    "paragraphs.head()"
   ]
  },
  {
   "cell_type": "code",
   "execution_count": 52,
   "metadata": {},
   "outputs": [],
   "source": [
    "count = np.zeros((len(paragraphs.index),))"
   ]
  },
  {
   "cell_type": "code",
   "execution_count": 53,
   "metadata": {},
   "outputs": [],
   "source": [
    "for pgid in paragraphs.index:\n",
    "    count[pgid] = len(paragraphs.iloc[pgid]['text'].split())"
   ]
  },
  {
   "cell_type": "code",
   "execution_count": 54,
   "metadata": {},
   "outputs": [],
   "source": [
    "paragraphs['count'] = count"
   ]
  },
  {
   "cell_type": "code",
   "execution_count": 49,
   "metadata": {},
   "outputs": [
    {
     "name": "stdout",
     "output_type": "stream",
     "text": [
      "0.9999967626015733\n"
     ]
    }
   ],
   "source": [
    "tempkwid = {}\n",
    "getback = {}\n",
    "i=0\n",
    "for kw in kwid:\n",
    "    tempkwid[kw] = i\n",
    "    getback[i] = kw\n",
    "    i+=1\n",
    "pgcontent = []\n",
    "length = len(paragraphs.index)\n",
    "for pgid in paragraphs.index:\n",
    "    clear_output(wait=True)\n",
    "    print(pgid/length)\n",
    "    vector = CountVectorizer(vocabulary=tempkwid, ngram_range=(1, 4))\n",
    "    p = vector.fit_transform([paragraphs.iloc[pgid]['text']])\n",
    "    pcount = p.toarray()\n",
    "    temp = {}\n",
    "    for elementid in range(len(pcount[0])):\n",
    "        if pcount[0, elementid]!=0:\n",
    "            temp[kwdata[kwid[getback[elementid]]]['name']] = pcount[0, elementid]\n",
    "    temp = updatedict(temp)\n",
    "    pgcontent.append(temp)"
   ]
  },
  {
   "cell_type": "code",
   "execution_count": 50,
   "metadata": {},
   "outputs": [],
   "source": [
    "paragraphs['keyelements'] = pgcontent"
   ]
  },
  {
   "cell_type": "code",
   "execution_count": 55,
   "metadata": {},
   "outputs": [
    {
     "data": {
      "text/html": [
       "<div>\n",
       "<style scoped>\n",
       "    .dataframe tbody tr th:only-of-type {\n",
       "        vertical-align: middle;\n",
       "    }\n",
       "\n",
       "    .dataframe tbody tr th {\n",
       "        vertical-align: top;\n",
       "    }\n",
       "\n",
       "    .dataframe thead th {\n",
       "        text-align: right;\n",
       "    }\n",
       "</style>\n",
       "<table border=\"1\" class=\"dataframe\">\n",
       "  <thead>\n",
       "    <tr style=\"text-align: right;\">\n",
       "      <th></th>\n",
       "      <th>tag</th>\n",
       "      <th>text</th>\n",
       "      <th>keyelements</th>\n",
       "      <th>count</th>\n",
       "    </tr>\n",
       "  </thead>\n",
       "  <tbody>\n",
       "    <tr>\n",
       "      <th>0</th>\n",
       "      <td>p</td>\n",
       "      <td>Covering the latest events, insights and views...</td>\n",
       "      <td>{'web3': 1}</td>\n",
       "      <td>11.0</td>\n",
       "    </tr>\n",
       "    <tr>\n",
       "      <th>1</th>\n",
       "      <td>p</td>\n",
       "      <td>Coub.com, a micro-video streaming social netwo...</td>\n",
       "      <td>{'blockchain': 1, 'nfts': 1, 'web3': 1}</td>\n",
       "      <td>89.0</td>\n",
       "    </tr>\n",
       "    <tr>\n",
       "      <th>2</th>\n",
       "      <td>p</td>\n",
       "      <td>Coub is a video-sharing website that is access...</td>\n",
       "      <td>{}</td>\n",
       "      <td>57.0</td>\n",
       "    </tr>\n",
       "    <tr>\n",
       "      <th>3</th>\n",
       "      <td>p</td>\n",
       "      <td>On Coub, users can take any video, trim the be...</td>\n",
       "      <td>{'web3': 1}</td>\n",
       "      <td>63.0</td>\n",
       "    </tr>\n",
       "    <tr>\n",
       "      <th>4</th>\n",
       "      <td>p</td>\n",
       "      <td>In order to preserve the intrinsic fluidity of...</td>\n",
       "      <td>{'nft marketplace': 1, 'nfts': 1, 'wallet': 1,...</td>\n",
       "      <td>76.0</td>\n",
       "    </tr>\n",
       "  </tbody>\n",
       "</table>\n",
       "</div>"
      ],
      "text/plain": [
       "  tag                                               text  \\\n",
       "0   p  Covering the latest events, insights and views...   \n",
       "1   p  Coub.com, a micro-video streaming social netwo...   \n",
       "2   p  Coub is a video-sharing website that is access...   \n",
       "3   p  On Coub, users can take any video, trim the be...   \n",
       "4   p  In order to preserve the intrinsic fluidity of...   \n",
       "\n",
       "                                         keyelements  count  \n",
       "0                                        {'web3': 1}   11.0  \n",
       "1            {'blockchain': 1, 'nfts': 1, 'web3': 1}   89.0  \n",
       "2                                                 {}   57.0  \n",
       "3                                        {'web3': 1}   63.0  \n",
       "4  {'nft marketplace': 1, 'nfts': 1, 'wallet': 1,...   76.0  "
      ]
     },
     "execution_count": 55,
     "metadata": {},
     "output_type": "execute_result"
    }
   ],
   "source": [
    "paragraphs.head()"
   ]
  },
  {
   "cell_type": "code",
   "execution_count": 57,
   "metadata": {},
   "outputs": [],
   "source": [
    "with open('paragraphswithanalysis.pickle', 'wb') as file:\n",
    "    pickle.dump(paragraphs, file)"
   ]
  },
  {
   "cell_type": "code",
   "execution_count": null,
   "metadata": {},
   "outputs": [],
   "source": []
  }
 ],
 "metadata": {
  "kernelspec": {
   "display_name": "Python 3",
   "language": "python",
   "name": "python3"
  },
  "language_info": {
   "codemirror_mode": {
    "name": "ipython",
    "version": 3
   },
   "file_extension": ".py",
   "mimetype": "text/x-python",
   "name": "python",
   "nbconvert_exporter": "python",
   "pygments_lexer": "ipython3",
   "version": "3.8.3"
  }
 },
 "nbformat": 4,
 "nbformat_minor": 4
}
