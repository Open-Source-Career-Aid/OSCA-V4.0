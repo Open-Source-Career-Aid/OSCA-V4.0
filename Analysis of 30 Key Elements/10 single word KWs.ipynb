{
 "cells": [
  {
   "cell_type": "code",
   "execution_count": 1,
   "metadata": {},
   "outputs": [],
   "source": [
    "import pandas as pd\n",
    "import numpy as np\n",
    "from sklearn.feature_extraction.text import CountVectorizer\n",
    "from sklearn.feature_extraction.text import TfidfVectorizer\n",
    "from math import log\n",
    "import string\n",
    "import seaborn as sns\n",
    "import matplotlib.pylab as plt\n",
    "import pickle\n",
    "import heapq\n",
    "from IPython.display import clear_output\n",
    "stopwords = pd.read_pickle('/Users/chinmayshrivastava/Desktop/OSCA/V4.0/stopwords.pickle')"
   ]
  },
  {
   "cell_type": "code",
   "execution_count": 2,
   "metadata": {},
   "outputs": [],
   "source": [
    "database = pd.read_pickle('/Users/chinmayshrivastava/Desktop/OSCA/V4.0/scraping/databasefromhnandbc101.pickle')\n",
    "headings = pd.read_pickle('/Users/chinmayshrivastava/Desktop/OSCA/V4.0/scraping/headingsfromhnandbc101.pickle')\n",
    "paragraphs = pd.read_pickle('/Users/chinmayshrivastava/Desktop/OSCA/V4.0/scraping/paragraphsfromhnandbc101.pickle')"
   ]
  },
  {
   "cell_type": "code",
   "execution_count": 8,
   "metadata": {},
   "outputs": [
    {
     "data": {
      "text/plain": [
       "tag                                      h4\n",
       "headingtext               3d. Truffle suite\n",
       "subheading                             None\n",
       "nextheading                            None\n",
       "paragraphs     [23681, 23682, 23683, 23684]\n",
       "Name: 5000, dtype: object"
      ]
     },
     "execution_count": 8,
     "metadata": {},
     "output_type": "execute_result"
    }
   ],
   "source": [
    "headings.iloc[5000]"
   ]
  },
  {
   "cell_type": "code",
   "execution_count": 61,
   "metadata": {},
   "outputs": [],
   "source": [
    "ngramrange = (3, 3)\n",
    "\n",
    "headingsvectorizer = CountVectorizer(analyzer='word', ngram_range=ngramrange)\n",
    "docs = list(headings.iloc[5000:10000]['headingtext'])\n",
    "X1 = headingsvectorizer.fit_transform(docs)\n",
    "countmatrixH = X1.toarray()\n",
    "vocabularyH = headingsvectorizer.vocabulary_\n",
    "summ = sum(countmatrixH, 0)"
   ]
  },
  {
   "cell_type": "code",
   "execution_count": 62,
   "metadata": {},
   "outputs": [],
   "source": [
    "index = []\n",
    "top150 = []\n",
    "for a in list(heapq.nlargest(15000, summ)):\n",
    "    index.append(list(summ).index(a))\n",
    "for key in vocabularyH:\n",
    "    if vocabularyH[key] in index:\n",
    "        top150.append(key)"
   ]
  },
  {
   "cell_type": "code",
   "execution_count": 63,
   "metadata": {},
   "outputs": [],
   "source": [
    "filter_ = []\n",
    "for ele in top150:\n",
    "    temp = ele.split(' ')\n",
    "    if temp[0] in stopwords:\n",
    "        continue\n",
    "    filter_.append(ele)"
   ]
  },
  {
   "cell_type": "code",
   "execution_count": 3,
   "metadata": {},
   "outputs": [],
   "source": [
    "index = 0\n",
    "kws = set()"
   ]
  },
  {
   "cell_type": "code",
   "execution_count": 5,
   "metadata": {},
   "outputs": [
    {
     "name": "stdout",
     "output_type": "stream",
     "text": [
      "Is Blockchain-Based Watch-to-Earn Monetization the Future of Video Streaming? 0\n"
     ]
    },
    {
     "ename": "KeyboardInterrupt",
     "evalue": "Interrupted by user",
     "output_type": "error",
     "traceback": [
      "\u001b[0;31m---------------------------------------------------------------------------\u001b[0m",
      "\u001b[0;31mKeyboardInterrupt\u001b[0m                         Traceback (most recent call last)",
      "\u001b[0;32m<ipython-input-5-72ed2a6c0ee4>\u001b[0m in \u001b[0;36m<module>\u001b[0;34m\u001b[0m\n\u001b[1;32m      3\u001b[0m     \u001b[0mprint\u001b[0m\u001b[0;34m(\u001b[0m\u001b[0mheading\u001b[0m\u001b[0;34m,\u001b[0m \u001b[0mindex\u001b[0m\u001b[0;34m)\u001b[0m\u001b[0;34m\u001b[0m\u001b[0;34m\u001b[0m\u001b[0m\n\u001b[1;32m      4\u001b[0m \u001b[0;31m#     while True:\u001b[0m\u001b[0;34m\u001b[0m\u001b[0;34m\u001b[0m\u001b[0;34m\u001b[0m\u001b[0m\n\u001b[0;32m----> 5\u001b[0;31m     \u001b[0mi\u001b[0m \u001b[0;34m=\u001b[0m \u001b[0minput\u001b[0m\u001b[0;34m(\u001b[0m\u001b[0;34m'enter kw:'\u001b[0m\u001b[0;34m)\u001b[0m\u001b[0;34m\u001b[0m\u001b[0;34m\u001b[0m\u001b[0m\n\u001b[0m\u001b[1;32m      6\u001b[0m     \u001b[0;32mif\u001b[0m \u001b[0mi\u001b[0m \u001b[0;34m==\u001b[0m \u001b[0;34m''\u001b[0m\u001b[0;34m:\u001b[0m\u001b[0;34m\u001b[0m\u001b[0;34m\u001b[0m\u001b[0m\n\u001b[1;32m      7\u001b[0m         \u001b[0;32mbreak\u001b[0m\u001b[0;34m\u001b[0m\u001b[0;34m\u001b[0m\u001b[0m\n",
      "\u001b[0;32m~/opt/anaconda3/lib/python3.8/site-packages/ipykernel/kernelbase.py\u001b[0m in \u001b[0;36mraw_input\u001b[0;34m(self, prompt)\u001b[0m\n\u001b[1;32m    858\u001b[0m                 \u001b[0;34m\"raw_input was called, but this frontend does not support input requests.\"\u001b[0m\u001b[0;34m\u001b[0m\u001b[0;34m\u001b[0m\u001b[0m\n\u001b[1;32m    859\u001b[0m             )\n\u001b[0;32m--> 860\u001b[0;31m         return self._input_request(str(prompt),\n\u001b[0m\u001b[1;32m    861\u001b[0m             \u001b[0mself\u001b[0m\u001b[0;34m.\u001b[0m\u001b[0m_parent_ident\u001b[0m\u001b[0;34m,\u001b[0m\u001b[0;34m\u001b[0m\u001b[0;34m\u001b[0m\u001b[0m\n\u001b[1;32m    862\u001b[0m             \u001b[0mself\u001b[0m\u001b[0;34m.\u001b[0m\u001b[0m_parent_header\u001b[0m\u001b[0;34m,\u001b[0m\u001b[0;34m\u001b[0m\u001b[0;34m\u001b[0m\u001b[0m\n",
      "\u001b[0;32m~/opt/anaconda3/lib/python3.8/site-packages/ipykernel/kernelbase.py\u001b[0m in \u001b[0;36m_input_request\u001b[0;34m(self, prompt, ident, parent, password)\u001b[0m\n\u001b[1;32m    902\u001b[0m             \u001b[0;32mexcept\u001b[0m \u001b[0mKeyboardInterrupt\u001b[0m\u001b[0;34m:\u001b[0m\u001b[0;34m\u001b[0m\u001b[0;34m\u001b[0m\u001b[0m\n\u001b[1;32m    903\u001b[0m                 \u001b[0;31m# re-raise KeyboardInterrupt, to truncate traceback\u001b[0m\u001b[0;34m\u001b[0m\u001b[0;34m\u001b[0m\u001b[0;34m\u001b[0m\u001b[0m\n\u001b[0;32m--> 904\u001b[0;31m                 \u001b[0;32mraise\u001b[0m \u001b[0mKeyboardInterrupt\u001b[0m\u001b[0;34m(\u001b[0m\u001b[0;34m\"Interrupted by user\"\u001b[0m\u001b[0;34m)\u001b[0m \u001b[0;32mfrom\u001b[0m \u001b[0;32mNone\u001b[0m\u001b[0;34m\u001b[0m\u001b[0;34m\u001b[0m\u001b[0m\n\u001b[0m\u001b[1;32m    905\u001b[0m             \u001b[0;32mexcept\u001b[0m \u001b[0mException\u001b[0m \u001b[0;32mas\u001b[0m \u001b[0me\u001b[0m\u001b[0;34m:\u001b[0m\u001b[0;34m\u001b[0m\u001b[0;34m\u001b[0m\u001b[0m\n\u001b[1;32m    906\u001b[0m                 \u001b[0mself\u001b[0m\u001b[0;34m.\u001b[0m\u001b[0mlog\u001b[0m\u001b[0;34m.\u001b[0m\u001b[0mwarning\u001b[0m\u001b[0;34m(\u001b[0m\u001b[0;34m\"Invalid Message:\"\u001b[0m\u001b[0;34m,\u001b[0m \u001b[0mexc_info\u001b[0m\u001b[0;34m=\u001b[0m\u001b[0;32mTrue\u001b[0m\u001b[0;34m)\u001b[0m\u001b[0;34m\u001b[0m\u001b[0;34m\u001b[0m\u001b[0m\n",
      "\u001b[0;31mKeyboardInterrupt\u001b[0m: Interrupted by user"
     ]
    }
   ],
   "source": [
    "for heading in headings['headingtext']:\n",
    "    clear_output(wait=True)\n",
    "    print(heading, index)\n",
    "#     while True:\n",
    "    i = input('enter kw:')\n",
    "    if i == '':\n",
    "        break\n",
    "    kws.add(i)\n",
    "    index+=1"
   ]
  },
  {
   "cell_type": "code",
   "execution_count": null,
   "metadata": {},
   "outputs": [],
   "source": [
    "a = ['proof of work','proof of stake','smart contract','blockchain technology','metaverse','blockchain',\n",
    "    'cryptography','defi','block','dao','bitcoin','cryptocurrency','crypto','nft','ethereum']"
   ]
  },
  {
   "cell_type": "code",
   "execution_count": 12,
   "metadata": {},
   "outputs": [],
   "source": [
    "# kwid = {'blockchain':0, \n",
    "#        'cryptocurrency':1, \n",
    "#        'smart contracts':2, \n",
    "#        'bitcoin':3, \n",
    "#        'ethereum':4, \n",
    "#        'zero knowledge proofs':5, \n",
    "#        'ether':6, \n",
    "#        'solana':7, \n",
    "#        'decentralised applications':8, \n",
    "#        'decentralised autonomous organisations':9}\n",
    "\n",
    "# kws = {'blockchain':None, \n",
    "#        'cryptocurrency':None, \n",
    "#        'smart contracts':None, \n",
    "#        'bitcoin':None, \n",
    "#        'ethereum':None, \n",
    "#        'zero knowledge proofs':['zkp', 'zkps'], \n",
    "#        'ether':None, \n",
    "#        'solana':None, \n",
    "#        'decentralised applications':['dapp', 'dapps'], \n",
    "#        'decentralised autonomous organisations':['dao', 'daos']}\n",
    "\n",
    "kwid = {'blockchain':0, \n",
    "       'web3':1,\n",
    "       'ethereum':2,\n",
    "       'nft':3,\n",
    "       'metaverse':4,\n",
    "       'crypto':5,\n",
    "       'bitcoin':6,\n",
    "       'dao':7,\n",
    "       'defi':8,\n",
    "       'consensus':9}\n",
    "\n",
    "kws = {'blockchain':None, \n",
    "       'web3':None,\n",
    "       'ethereum':None,\n",
    "       'nft':None,\n",
    "       'metaverse':None,\n",
    "       'crypto':None,\n",
    "       'bitcoin':None,\n",
    "       'dao':None,\n",
    "       'defi':None,\n",
    "       'consensus':None}"
   ]
  },
  {
   "cell_type": "code",
   "execution_count": 13,
   "metadata": {},
   "outputs": [],
   "source": [
    "connectionmatrix = np.zeros((len(kws), len(kws)))"
   ]
  },
  {
   "cell_type": "code",
   "execution_count": 14,
   "metadata": {},
   "outputs": [
    {
     "data": {
      "text/plain": [
       "(10, 10)"
      ]
     },
     "execution_count": 14,
     "metadata": {},
     "output_type": "execute_result"
    }
   ],
   "source": [
    "connectionmatrix.shape"
   ]
  },
  {
   "cell_type": "code",
   "execution_count": 21,
   "metadata": {},
   "outputs": [
    {
     "name": "stdout",
     "output_type": "stream",
     "text": [
      "(0, 25000)\n",
      "(25000, 50000)\n",
      "(50000, 75000)\n",
      "(75000, 100000)\n",
      "(100000, 125000)\n",
      "(125000, 150000)\n",
      "(150000, 175000)\n",
      "(175000, 200000)\n",
      "(200000, 225000)\n",
      "(225000, 250000)\n",
      "(250000, 275000)\n",
      "(275000, 300000)\n",
      "(300000, 308890)\n"
     ]
    }
   ],
   "source": [
    "# for headingid in headings.index:\n",
    "#     if countmatrixH[headingid, vocabularyH['cryptocurrency']]!=0:\n",
    "#         for pgid in headings.iloc[headingid]['paragraphs']:\n",
    "#             if countmatrixP[pgid, vocabularyP['cryptocurrency']]!=0:\n",
    "#                 connectionmatrix[1, 1]+=1\n",
    "range_ = [(0, 25000), (25000, 50000),\n",
    "          (50000, 75000), (75000, 100000),\n",
    "          (100000, 125000), (125000, 150000), \n",
    "          (150000, 175000), (175000, 200000), \n",
    "          (200000, 225000), (225000, 250000), \n",
    "          (250000, 275000), (275000, 300000), \n",
    "          (300000, len(paragraphs.index))]\n",
    "headingid = 0\n",
    "\n",
    "for element in range_:\n",
    "    print(element)\n",
    "    paragraphsvectorizer = CountVectorizer(analyzer='word', ngram_range=ngramrange)\n",
    "    docs = list(paragraphs.iloc[element[0]:element[1]]['text'])\n",
    "    X2 = paragraphsvectorizer.fit_transform(docs)\n",
    "    countmatrixP = X2.toarray()\n",
    "    vocabularyP = paragraphsvectorizer.vocabulary_\n",
    "    try:\n",
    "        while headingid<len(headings.index):\n",
    "            headingid+=1\n",
    "            for kw1 in kws:\n",
    "                try:\n",
    "                    if countmatrixH[headingid, vocabularyH[kw1]]!=0:\n",
    "                        for kw2 in kws:\n",
    "                            if kw1==kw2:\n",
    "                                continue\n",
    "                            for pgid in headings.iloc[headingid]['paragraphs']:\n",
    "                                pgid = pgid-element[0]\n",
    "                                try:\n",
    "                                    if countmatrixP[pgid, vocabularyP[kw2]]!=0:\n",
    "                                        connectionmatrix[kwid[kw1], kwid[kw2]]+=countmatrixP[pgid, \n",
    "                                                                                             vocabularyP[kw2]]/sum(countmatrixP[pgid, :])\n",
    "                                except KeyError:\n",
    "                                    continue\n",
    "                except KeyError:\n",
    "                    continue\n",
    "\n",
    "    except IndexError:\n",
    "        headingid = headingid-1\n",
    "        continue"
   ]
  },
  {
   "cell_type": "code",
   "execution_count": 22,
   "metadata": {},
   "outputs": [
    {
     "data": {
      "text/plain": [
       "array([[ 0.        ,  3.89424272, 12.08882928,  7.20367663,  4.41467702,\n",
       "        14.3961545 , 14.87385403,  0.82276911,  7.83723031,  2.3800332 ],\n",
       "       [ 9.24035549,  0.        ,  3.30645337,  1.45502172,  1.48903943,\n",
       "         1.04854376,  0.24823575,  0.67039388,  1.53783658,  0.07894737],\n",
       "       [ 4.47995965,  0.13339921,  0.        ,  0.91322714,  0.        ,\n",
       "         1.0087133 ,  0.91860787,  0.        ,  1.07752634,  0.57840589],\n",
       "       [ 6.49332072,  0.47135985,  2.02140576,  0.        ,  3.28087648,\n",
       "         2.59402224,  0.184375  ,  0.44975363,  0.25037444,  0.        ],\n",
       "       [ 4.56954816,  1.06780795,  0.24762529,  4.06689194,  0.        ,\n",
       "         3.86376582,  0.23992674,  0.85695774,  0.58764006,  0.        ],\n",
       "       [ 6.10148198,  1.41179   ,  2.40292723,  1.68243571,  3.22171758,\n",
       "         0.        ,  3.72521619,  0.08542413,  3.57739332,  0.42775216],\n",
       "       [16.54160033,  0.20831601,  2.02411411,  0.04918033,  0.        ,\n",
       "         6.26157205,  0.        ,  0.        ,  0.08490566,  0.65831493],\n",
       "       [ 1.48903591,  0.10319207,  0.1969697 ,  3.5275011 ,  0.06818182,\n",
       "         1.20400064,  0.05263158,  0.        ,  1.460879  ,  0.        ],\n",
       "       [ 2.5070312 ,  0.50064857,  1.50052548,  1.28814522,  0.03947368,\n",
       "         3.29185419,  1.4565506 ,  0.04477612,  0.        ,  0.02912621],\n",
       "       [ 2.10902162,  0.        ,  0.71105562,  0.07317073,  0.        ,\n",
       "         0.24259927,  0.36662681,  0.7131597 ,  0.        ,  0.        ]])"
      ]
     },
     "execution_count": 22,
     "metadata": {},
     "output_type": "execute_result"
    }
   ],
   "source": [
    "# connectionmatrix\n",
    "# array([[15287.,   700.],\n",
    "#        [  350.,   662.]])\n",
    "connectionmatrix"
   ]
  },
  {
   "cell_type": "code",
   "execution_count": 23,
   "metadata": {},
   "outputs": [
    {
     "data": {
      "image/png": "[encoded data removed]",
      "text/plain": [
       "<Figure size 432x288 with 2 Axes>"
      ]
     },
     "metadata": {
      "needs_background": "light"
     },
     "output_type": "display_data"
    }
   ],
   "source": [
    "ax = sns.heatmap(connectionmatrix, linewidth=0.5)\n",
    "plt.show()"
   ]
  },
  {
   "cell_type": "code",
   "execution_count": 21,
   "metadata": {},
   "outputs": [
    {
     "data": {
      "text/plain": [
       "1"
      ]
     },
     "execution_count": 21,
     "metadata": {},
     "output_type": "execute_result"
    }
   ],
   "source": [
    "countmatrixH[0, vocabularyH['blockchain']]"
   ]
  },
  {
   "cell_type": "code",
   "execution_count": 19,
   "metadata": {},
   "outputs": [
    {
     "data": {
      "text/plain": [
       "'Is Blockchain-Based Watch-to-Earn Monetization the Future of Video Streaming?'"
      ]
     },
     "execution_count": 19,
     "metadata": {},
     "output_type": "execute_result"
    }
   ],
   "source": [
    "headings.iloc[0]['headingtext']"
   ]
  },
  {
   "cell_type": "code",
   "execution_count": 30,
   "metadata": {},
   "outputs": [
    {
     "data": {
      "text/plain": [
       "array([[0., 2.],\n",
       "       [0., 0.]])"
      ]
     },
     "execution_count": 30,
     "metadata": {},
     "output_type": "execute_result"
    }
   ],
   "source": [
    "connectionmatrix"
   ]
  },
  {
   "cell_type": "code",
   "execution_count": 54,
   "metadata": {},
   "outputs": [
    {
     "data": {
      "text/plain": [
       "3021"
      ]
     },
     "execution_count": 54,
     "metadata": {},
     "output_type": "execute_result"
    }
   ],
   "source": [
    "sum(countmatrixP[:, vocabularyP['ethereum']])"
   ]
  },
  {
   "cell_type": "code",
   "execution_count": 24,
   "metadata": {},
   "outputs": [],
   "source": [
    "with open('matrix.pickle', 'wb') as file:\n",
    "    pickle.dump(connectionmatrix, file)"
   ]
  },
  {
   "cell_type": "code",
   "execution_count": 14,
   "metadata": {},
   "outputs": [
    {
     "data": {
      "text/plain": [
       "'/Users/chinmayshrivastava/Desktop/OSCA/V4.0/Analysis of 30 Key Elements'"
      ]
     },
     "execution_count": 14,
     "metadata": {},
     "output_type": "execute_result"
    }
   ],
   "source": [
    "pwd"
   ]
  },
  {
   "cell_type": "code",
   "execution_count": null,
   "metadata": {},
   "outputs": [],
   "source": []
  }
 ],
 "metadata": {
  "kernelspec": {
   "display_name": "Python 3",
   "language": "python",
   "name": "python3"
  },
  "language_info": {
   "codemirror_mode": {
    "name": "ipython",
    "version": 3
   },
   "file_extension": ".py",
   "mimetype": "text/x-python",
   "name": "python",
   "nbconvert_exporter": "python",
   "pygments_lexer": "ipython3",
   "version": "3.8.3"
  }
 },
 "nbformat": 4,
 "nbformat_minor": 4
}
