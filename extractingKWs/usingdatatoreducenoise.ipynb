{
 "cells": [
  {
   "cell_type": "code",
   "execution_count": 59,
   "metadata": {},
   "outputs": [],
   "source": [
    "import pandas as pd\n",
    "from sklearn.feature_extraction.text import CountVectorizer\n",
    "from IPython.display import clear_output\n",
    "stopwords = pd.read_pickle('/Users/chinmayshrivastava/Desktop/OSCA/V4.0/stopwords.pickle')\n",
    "from nltk import everygrams"
   ]
  },
  {
   "cell_type": "code",
   "execution_count": 81,
   "metadata": {},
   "outputs": [],
   "source": [
    "headings = pd.read_pickle('/Users/chinmayshrivastava/Desktop/OSCA/V4.0/scraping/headingsfromhnandbc101.pickle')\n",
    "paragraphs = pd.read_pickle('/Users/chinmayshrivastava/Desktop/OSCA/V4.0/scraping/paragraphsfromhnandbc101.pickle')\n",
    "kws = pd.read_pickle('kws.pickle')"
   ]
  },
  {
   "cell_type": "code",
   "execution_count": 82,
   "metadata": {},
   "outputs": [
    {
     "data": {
      "text/plain": [
       "6037"
      ]
     },
     "execution_count": 82,
     "metadata": {},
     "output_type": "execute_result"
    }
   ],
   "source": [
    "len(kws)"
   ]
  },
  {
   "cell_type": "code",
   "execution_count": 83,
   "metadata": {},
   "outputs": [],
   "source": [
    "toadd = []\n",
    "for kw in kws:\n",
    "    grams = everygrams(kw.split(' '))\n",
    "    for gram in grams:\n",
    "        toadd.append(' '.join(list(gram)))\n",
    "kws = {}\n",
    "kwid = 0\n",
    "for element in toadd:\n",
    "    if element not in kws:\n",
    "        kws[element] = kwid\n",
    "        kwid+=1"
   ]
  },
  {
   "cell_type": "code",
   "execution_count": 84,
   "metadata": {},
   "outputs": [
    {
     "data": {
      "text/plain": [
       "6252"
      ]
     },
     "execution_count": 84,
     "metadata": {},
     "output_type": "execute_result"
    }
   ],
   "source": [
    "len(kws)"
   ]
  },
  {
   "cell_type": "code",
   "execution_count": 85,
   "metadata": {},
   "outputs": [],
   "source": [
    "hvector = CountVectorizer(vocabulary=kws, ngram_range=(1, 1))\n",
    "h = hvector.fit_transform(headings['headingtext'])\n",
    "hcount = h.toarray()\n",
    "del hvector\n",
    "del h"
   ]
  },
  {
   "cell_type": "code",
   "execution_count": 86,
   "metadata": {},
   "outputs": [],
   "source": [
    "pvector = CountVectorizer(vocabulary=kws, ngram_range=(1, 3))\n",
    "p = pvector.fit_transform(paragraphs['text'])\n",
    "pcount = p.toarray()\n",
    "del pvector\n",
    "del p"
   ]
  },
  {
   "cell_type": "code",
   "execution_count": 87,
   "metadata": {},
   "outputs": [],
   "source": [
    "sumpcount = sum(pcount)"
   ]
  },
  {
   "cell_type": "code",
   "execution_count": 88,
   "metadata": {},
   "outputs": [],
   "source": [
    "sumhcount = sum(hcount)"
   ]
  },
  {
   "cell_type": "code",
   "execution_count": 89,
   "metadata": {},
   "outputs": [],
   "source": [
    "kwc = {}\n",
    "hweight = 5\n",
    "pweight = 1\n",
    "for kw in kws:\n",
    "    kwc[kw] = sumhcount[kws[kw]]*hweight\n",
    "    kwc[kw] += sumpcount[kws[kw]]*pweight"
   ]
  },
  {
   "cell_type": "code",
   "execution_count": 90,
   "metadata": {},
   "outputs": [
    {
     "data": {
      "text/plain": [
       "0.06682392306996654"
      ]
     },
     "execution_count": 90,
     "metadata": {},
     "output_type": "execute_result"
    }
   ],
   "source": [
    "kwc['blockchain technology']/kwc['blockchain']"
   ]
  },
  {
   "cell_type": "code",
   "execution_count": 107,
   "metadata": {},
   "outputs": [],
   "source": [
    "newkws = {}"
   ]
  },
  {
   "cell_type": "code",
   "execution_count": 108,
   "metadata": {},
   "outputs": [
    {
     "data": {
      "text/html": [
       "<div>\n",
       "<style scoped>\n",
       "    .dataframe tbody tr th:only-of-type {\n",
       "        vertical-align: middle;\n",
       "    }\n",
       "\n",
       "    .dataframe tbody tr th {\n",
       "        vertical-align: top;\n",
       "    }\n",
       "\n",
       "    .dataframe thead th {\n",
       "        text-align: right;\n",
       "    }\n",
       "</style>\n",
       "<table border=\"1\" class=\"dataframe\">\n",
       "  <thead>\n",
       "    <tr style=\"text-align: right;\">\n",
       "      <th></th>\n",
       "      <th>tag</th>\n",
       "      <th>headingtext</th>\n",
       "      <th>subheading</th>\n",
       "      <th>nextheading</th>\n",
       "      <th>paragraphs</th>\n",
       "    </tr>\n",
       "  </thead>\n",
       "  <tbody>\n",
       "    <tr>\n",
       "      <th>0</th>\n",
       "      <td>topic</td>\n",
       "      <td>Is Blockchain-Based Watch-to-Earn Monetization...</td>\n",
       "      <td>2</td>\n",
       "      <td>None</td>\n",
       "      <td>[]</td>\n",
       "    </tr>\n",
       "    <tr>\n",
       "      <th>1</th>\n",
       "      <td>h3</td>\n",
       "      <td>@ishantechIshanOnTech</td>\n",
       "      <td>None</td>\n",
       "      <td>None</td>\n",
       "      <td>[0]</td>\n",
       "    </tr>\n",
       "    <tr>\n",
       "      <th>2</th>\n",
       "      <td>h2</td>\n",
       "      <td>What Is Happening?</td>\n",
       "      <td>None</td>\n",
       "      <td>3</td>\n",
       "      <td>[1]</td>\n",
       "    </tr>\n",
       "    <tr>\n",
       "      <th>3</th>\n",
       "      <td>h2</td>\n",
       "      <td>What is Coub.com?</td>\n",
       "      <td>None</td>\n",
       "      <td>4</td>\n",
       "      <td>[2, 3]</td>\n",
       "    </tr>\n",
       "    <tr>\n",
       "      <th>4</th>\n",
       "      <td>h2</td>\n",
       "      <td>How is Coubâs Web3 Video Space Going to Work?</td>\n",
       "      <td>None</td>\n",
       "      <td>5</td>\n",
       "      <td>[4, 5, 6, 7]</td>\n",
       "    </tr>\n",
       "  </tbody>\n",
       "</table>\n",
       "</div>"
      ],
      "text/plain": [
       "     tag                                        headingtext subheading  \\\n",
       "0  topic  Is Blockchain-Based Watch-to-Earn Monetization...          2   \n",
       "1     h3                              @ishantechIshanOnTech       None   \n",
       "2     h2                                 What Is Happening?       None   \n",
       "3     h2                                  What is Coub.com?       None   \n",
       "4     h2    How is Coubâs Web3 Video Space Going to Work?       None   \n",
       "\n",
       "  nextheading    paragraphs  \n",
       "0        None            []  \n",
       "1        None           [0]  \n",
       "2           3           [1]  \n",
       "3           4        [2, 3]  \n",
       "4           5  [4, 5, 6, 7]  "
      ]
     },
     "execution_count": 108,
     "metadata": {},
     "output_type": "execute_result"
    }
   ],
   "source": [
    "headings.head()"
   ]
  },
  {
   "cell_type": "code",
   "execution_count": 109,
   "metadata": {},
   "outputs": [
    {
     "name": "stdout",
     "output_type": "stream",
     "text": [
      "64682\n"
     ]
    }
   ],
   "source": [
    "for hid in headings.index:\n",
    "    clear_output(wait=True)\n",
    "    print(hid)\n",
    "    try:\n",
    "        hvector = CountVectorizer(analyzer='word', ngram_range=(1, 1))\n",
    "        h = hvector.fit_transform([headings.iloc[hid]['headingtext']])\n",
    "        htemp_ = hvector.vocabulary_\n",
    "        htemp = list(htemp_)\n",
    "        nextw = ''\n",
    "        while True:\n",
    "\n",
    "            if len(htemp)==0:\n",
    "                break\n",
    "\n",
    "            if len(nextw)==0:\n",
    "                if htemp[0] in kws:\n",
    "                    nextw = htemp.pop(0)\n",
    "                    continue\n",
    "                else:\n",
    "                    htemp.pop(0)\n",
    "                    continue\n",
    "            else:\n",
    "                if nextw+' '+htemp[0] in kws:\n",
    "                    if kwc[nextw+' '+htemp[0]]/kwc[nextw]>0.05:\n",
    "                        nextw += (' '+htemp.pop(0))\n",
    "                        continue\n",
    "                    else:\n",
    "                        if nextw in newkws:\n",
    "                            newkws[nextw] += 1\n",
    "                        else:\n",
    "                            newkws[nextw] = 1\n",
    "                        htemp.pop(0)\n",
    "                        nextw = ''\n",
    "                        continue\n",
    "                else:\n",
    "                    if nextw in newkws:\n",
    "                        newkws[nextw] += 1\n",
    "                    else:\n",
    "                        newkws[nextw] = 1\n",
    "                    htemp.pop(0)\n",
    "                    nextw = ''\n",
    "                    continue\n",
    "    except ValueError:\n",
    "        continue"
   ]
  },
  {
   "cell_type": "code",
   "execution_count": 110,
   "metadata": {},
   "outputs": [
    {
     "data": {
      "text/plain": [
       "4126"
      ]
     },
     "execution_count": 110,
     "metadata": {},
     "output_type": "execute_result"
    }
   ],
   "source": [
    "len(newkws)"
   ]
  },
  {
   "cell_type": "code",
   "execution_count": 111,
   "metadata": {},
   "outputs": [
    {
     "data": {
      "text/plain": [
       "89"
      ]
     },
     "execution_count": 111,
     "metadata": {},
     "output_type": "execute_result"
    }
   ],
   "source": [
    "newkws['proof of']"
   ]
  },
  {
   "cell_type": "code",
   "execution_count": 113,
   "metadata": {},
   "outputs": [
    {
     "data": {
      "text/plain": [
       "34"
      ]
     },
     "execution_count": 113,
     "metadata": {},
     "output_type": "execute_result"
    }
   ],
   "source": [
    "kws['proof of work']"
   ]
  },
  {
   "cell_type": "code",
   "execution_count": null,
   "metadata": {},
   "outputs": [],
   "source": []
  }
 ],
 "metadata": {
  "kernelspec": {
   "display_name": "Python 3",
   "language": "python",
   "name": "python3"
  },
  "language_info": {
   "codemirror_mode": {
    "name": "ipython",
    "version": 3
   },
   "file_extension": ".py",
   "mimetype": "text/x-python",
   "name": "python",
   "nbconvert_exporter": "python",
   "pygments_lexer": "ipython3",
   "version": "3.8.3"
  }
 },
 "nbformat": 4,
 "nbformat_minor": 4
}
