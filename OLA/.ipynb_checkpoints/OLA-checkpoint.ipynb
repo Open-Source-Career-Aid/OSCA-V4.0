{
 "cells": [
  {
   "cell_type": "code",
   "execution_count": 31,
   "metadata": {},
   "outputs": [],
   "source": [
    "import pandas as pd\n",
    "import seaborn as sns\n",
    "import matplotlib.pylab as plt\n",
    "import numpy as np"
   ]
  },
  {
   "cell_type": "code",
   "execution_count": 3,
   "metadata": {},
   "outputs": [],
   "source": [
    "matrix = pd.read_pickle('/Users/chinmayshrivastava/Desktop/OSCA/V4.0/Analysis of 30 Key Elements/matrix.pickle')"
   ]
  },
  {
   "cell_type": "code",
   "execution_count": 24,
   "metadata": {},
   "outputs": [],
   "source": [
    "class stack:\n",
    "    def __init__(self):\n",
    "        self.__index = []\n",
    "\n",
    "    def __len__(self):\n",
    "        return len(self.__index)\n",
    "\n",
    "    def push(self,item):\n",
    "        self.__index.insert(0,item)\n",
    "\n",
    "    def peek(self):\n",
    "        if len(self) == 0:\n",
    "            raise Exception(\"peek() called on empty stack.\")\n",
    "        return self.__index[0]\n",
    "\n",
    "    def pop(self):\n",
    "        if len(self) == 0:\n",
    "            raise Exception(\"pop() called on empty stack.\")\n",
    "        return self.__index.pop(0)\n",
    "\n",
    "    def __str__(self):\n",
    "        return str(self.__index)"
   ]
  },
  {
   "cell_type": "code",
   "execution_count": 10,
   "metadata": {},
   "outputs": [],
   "source": [
    "kwid = {'blockchain':0, \n",
    "       'web3':1,\n",
    "       'ethereum':2,\n",
    "       'nft':3,\n",
    "       'metaverse':4,\n",
    "       'crypto':5,\n",
    "       'bitcoin':6,\n",
    "       'dao':7,\n",
    "       'defi':8,\n",
    "       'consensus':9}\n",
    "\n",
    "kws = {1:{'commonname':'blockchain', 'synonyms':['blockchain technology']}, \n",
    "       2:{'commonname':'web3', 'synonyms':['web 3.0']},\n",
    "       3:{'commonname':'ethereum', 'synonyms':[]},\n",
    "       4:{'commonname':'nft', 'synonyms':['non fungible tokens']},\n",
    "       5:{'commonname':'metaverse', 'synonyms':['meta']},\n",
    "       6:{'commonname':'crypto', 'synonyms':['cryptocurrency']},\n",
    "       7:{'commonname':'bitcoin', 'synonyms':[]},\n",
    "       8:{'commonname':'dao', 'synonyms':['decentralised autonomous organisations']},\n",
    "       9:{'commonname':'defi', 'synonyms':['decentralised finance']},\n",
    "       10:{'commonname':'consensus', 'synonyms':['consensus mechanism', 'consensus algorithm']}}"
   ]
  },
  {
   "cell_type": "code",
   "execution_count": 8,
   "metadata": {},
   "outputs": [
    {
     "data": {
      "image/png": "[encoded data removed]",
      "text/plain": [
       "<Figure size 432x288 with 2 Axes>"
      ]
     },
     "metadata": {
      "needs_background": "light"
     },
     "output_type": "display_data"
    }
   ],
   "source": [
    "ax = sns.heatmap(matrix, linewidth=0.5)\n",
    "plt.show()"
   ]
  },
  {
   "cell_type": "code",
   "execution_count": 12,
   "metadata": {},
   "outputs": [
    {
     "ename": "TypeError",
     "evalue": "'numpy.bool_' object is not iterable",
     "output_type": "error",
     "traceback": [
      "\u001b[0;31m---------------------------------------------------------------------------\u001b[0m",
      "\u001b[0;31mTypeError\u001b[0m                                 Traceback (most recent call last)",
      "\u001b[0;32m<ipython-input-12-cdb2c2955006>\u001b[0m in \u001b[0;36m<module>\u001b[0;34m\u001b[0m\n\u001b[0;32m----> 1\u001b[0;31m \u001b[0mmax\u001b[0m\u001b[0;34m(\u001b[0m\u001b[0mmatrix\u001b[0m\u001b[0;34m.\u001b[0m\u001b[0mall\u001b[0m\u001b[0;34m(\u001b[0m\u001b[0;34m)\u001b[0m\u001b[0;34m)\u001b[0m\u001b[0;34m\u001b[0m\u001b[0;34m\u001b[0m\u001b[0m\n\u001b[0m",
      "\u001b[0;31mTypeError\u001b[0m: 'numpy.bool_' object is not iterable"
     ]
    }
   ],
   "source": []
  },
  {
   "cell_type": "code",
   "execution_count": 41,
   "metadata": {},
   "outputs": [],
   "source": [
    "def getPrereqs(search, matrix, discriminant=0.3):\n",
    "    rm = []\n",
    "    unique = set()\n",
    "    cloud = [search]\n",
    "    def findMin(self):\n",
    "        for element in cloud:\n",
    "            if matrix[]\n",
    "    while True:\n",
    "        # go through the lowest element in cloud\n",
    "            # add it in rm\n",
    "            # add the prereqs to cloud\n",
    "            # repeat until nothing repeats or only zero remains\n",
    "        next_ = \n",
    "    \n",
    "    \n",
    "    \n",
    "    \n",
    "    \n",
    "    \n",
    "    \n",
    "    \n",
    "    "
   ]
  },
  {
   "cell_type": "code",
   "execution_count": 42,
   "metadata": {},
   "outputs": [],
   "source": [
    "getPrereqs(6, matrix)"
   ]
  },
  {
   "cell_type": "code",
   "execution_count": null,
   "metadata": {},
   "outputs": [],
   "source": []
  }
 ],
 "metadata": {
  "kernelspec": {
   "display_name": "Python 3",
   "language": "python",
   "name": "python3"
  },
  "language_info": {
   "codemirror_mode": {
    "name": "ipython",
    "version": 3
   },
   "file_extension": ".py",
   "mimetype": "text/x-python",
   "name": "python",
   "nbconvert_exporter": "python",
   "pygments_lexer": "ipython3",
   "version": "3.8.3"
  }
 },
 "nbformat": 4,
 "nbformat_minor": 4
}
