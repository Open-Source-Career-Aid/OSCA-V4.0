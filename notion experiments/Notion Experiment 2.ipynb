{
 "cells": [
  {
   "cell_type": "code",
   "execution_count": 1,
   "metadata": {
    "scrolled": true
   },
   "outputs": [],
   "source": [
    "from keybert import KeyBERT\n",
    "import pandas as pd\n",
    "import pickle"
   ]
  },
  {
   "cell_type": "code",
   "execution_count": 38,
   "metadata": {},
   "outputs": [],
   "source": [
    "P = '''DAO stands for decentralized autonomous organization. Think of them as a native internet business collectively owned and operated by its members. They have built-in treasure chests that no one can access without group approval. Decisions are governed by proposals and voting so that everyone in the organization has a say.\n",
    "\n",
    "Why do we need DAOs?\n",
    "Starting an organization with someone that has to do with funding and money requires a lot of trust in the people you work with. But it’s hard to trust someone you’ve only ever interacted with online. With DAO, you don’t have to trust anyone else in the group, only the DAO code, which is 100% transparent and can be verified.\n",
    "\n",
    "This opens up so many new opportunities for global cooperation and coordination.\n",
    "\n",
    "How do DAOs work? What are the benefits of DAO? Today we’re going to answer all the questions in the video below.\n",
    "'''"
   ]
  },
  {
   "cell_type": "code",
   "execution_count": 55,
   "metadata": {},
   "outputs": [],
   "source": [
    "kw_model = KeyBERT()\n",
    "keywords1 = kw_model.extract_keywords(P, keyphrase_ngram_range=(1, 4), stop_words=None, use_mmr=True,\n",
    "                                      top_n=10, diversity=0.4)\n",
    "keywords2 = kw_model.extract_keywords(P, keyphrase_ngram_range=(1, 4), stop_words=None, top_n=10)"
   ]
  },
  {
   "cell_type": "code",
   "execution_count": 56,
   "metadata": {},
   "outputs": [
    {
     "data": {
      "text/plain": [
       "[('dao stands for decentralized', 0.7772),\n",
       " ('do we need daos', 0.6492),\n",
       " ('daos starting an organization', 0.7275),\n",
       " ('to trust anyone', 0.3506),\n",
       " ('the benefits of dao', 0.7121),\n",
       " ('coordination how do daos', 0.658),\n",
       " ('internet business collectively', 0.3383),\n",
       " ('daos work what are', 0.6351),\n",
       " ('online with dao', 0.5288),\n",
       " ('autonomous organization think of', 0.4162)]"
      ]
     },
     "execution_count": 56,
     "metadata": {},
     "output_type": "execute_result"
    }
   ],
   "source": [
    "keywords1"
   ]
  },
  {
   "cell_type": "code",
   "execution_count": 57,
   "metadata": {},
   "outputs": [
    {
     "data": {
      "text/plain": [
       "[('dao stands for decentralized', 0.7772),\n",
       " ('daos starting an organization', 0.7275),\n",
       " ('the benefits of dao', 0.7121),\n",
       " ('benefits of dao', 0.6933),\n",
       " ('benefits of dao today', 0.6744),\n",
       " ('how do daos work', 0.6714),\n",
       " ('dao stands for', 0.6714),\n",
       " ('coordination how do daos', 0.658),\n",
       " ('do we need daos', 0.6492),\n",
       " ('how do daos', 0.6386)]"
      ]
     },
     "execution_count": 57,
     "metadata": {},
     "output_type": "execute_result"
    }
   ],
   "source": [
    "keywords2"
   ]
  },
  {
   "cell_type": "code",
   "execution_count": 42,
   "metadata": {},
   "outputs": [
    {
     "data": {
      "text/plain": [
       "869"
      ]
     },
     "execution_count": 42,
     "metadata": {},
     "output_type": "execute_result"
    }
   ],
   "source": [
    "len(P)"
   ]
  },
  {
   "cell_type": "code",
   "execution_count": null,
   "metadata": {},
   "outputs": [],
   "source": []
  }
 ],
 "metadata": {
  "kernelspec": {
   "display_name": "Python 3",
   "language": "python",
   "name": "python3"
  },
  "language_info": {
   "codemirror_mode": {
    "name": "ipython",
    "version": 3
   },
   "file_extension": ".py",
   "mimetype": "text/x-python",
   "name": "python",
   "nbconvert_exporter": "python",
   "pygments_lexer": "ipython3",
   "version": "3.8.3"
  }
 },
 "nbformat": 4,
 "nbformat_minor": 4
}
