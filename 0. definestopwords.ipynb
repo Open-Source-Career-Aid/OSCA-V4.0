{
 "cells": [
  {
   "cell_type": "code",
   "execution_count": 1,
   "metadata": {},
   "outputs": [],
   "source": [
    "# import required libraries\n",
    "import pandas as pd\n",
    "import numpy as np\n",
    "import pickle\n",
    "from nltk.corpus import stopwords\n",
    "\n",
    "stopwordsen = stopwords.words('english')\n",
    "additionStopwords = ['chapter', 'summary', 'table', 'contents', 'etc', '-', \n",
    "                     'best', 'practice', 'application', 'fasttrack', 'tutorial',\n",
    "                    'introduction', 'use', 'case', 'cases', 'practices', 'everything', 'reference', \n",
    "                     'conclusion', 'example', 'overview', 'using']\n",
    "for item in additionStopwords:\n",
    "    stopwordsen.append(item)"
   ]
  },
  {
   "cell_type": "code",
   "execution_count": 2,
   "metadata": {},
   "outputs": [],
   "source": [
    "df = pd.DataFrame(stopwordsen, columns=['Word'])"
   ]
  },
  {
   "cell_type": "code",
   "execution_count": 3,
   "metadata": {},
   "outputs": [],
   "source": [
    "df.to_pickle('stopwords.pickle')"
   ]
  },
  {
   "cell_type": "code",
   "execution_count": null,
   "metadata": {},
   "outputs": [],
   "source": []
  }
 ],
 "metadata": {
  "kernelspec": {
   "display_name": "Python 3",
   "language": "python",
   "name": "python3"
  },
  "language_info": {
   "codemirror_mode": {
    "name": "ipython",
    "version": 3
   },
   "file_extension": ".py",
   "mimetype": "text/x-python",
   "name": "python",
   "nbconvert_exporter": "python",
   "pygments_lexer": "ipython3",
   "version": "3.8.3"
  }
 },
 "nbformat": 4,
 "nbformat_minor": 4
}
