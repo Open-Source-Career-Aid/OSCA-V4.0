{
 "cells": [
  {
   "cell_type": "code",
   "execution_count": 1,
   "metadata": {},
   "outputs": [],
   "source": [
    "# importing required libraries\n",
    "import pandas as pd\n",
    "import networkx as nx\n",
    "import pickle"
   ]
  },
  {
   "cell_type": "code",
   "execution_count": 2,
   "metadata": {},
   "outputs": [],
   "source": [
    "G = pd.read_pickle('directedgraphoftopicsfrom6.pickle')\n",
    "importances = pd.read_pickle('importancesofkeywordsfrom4.pickle')"
   ]
  },
  {
   "cell_type": "code",
   "execution_count": 3,
   "metadata": {},
   "outputs": [
    {
     "data": {
      "text/plain": [
       "['blockchain', 'adding', 'consensus']"
      ]
     },
     "execution_count": 3,
     "metadata": {},
     "output_type": "execute_result"
    }
   ],
   "source": [
    "nx.dijkstra_path(G, 'blockchain', 'consensus', 'weight')"
   ]
  },
  {
   "cell_type": "code",
   "execution_count": 4,
   "metadata": {
    "scrolled": false
   },
   "outputs": [
    {
     "data": {
      "text/plain": [
       "991"
      ]
     },
     "execution_count": 4,
     "metadata": {},
     "output_type": "execute_result"
    }
   ],
   "source": [
    "len(G.nodes())"
   ]
  },
  {
   "cell_type": "code",
   "execution_count": 5,
   "metadata": {},
   "outputs": [],
   "source": [
    "# simple cluster 1 - by importance\n",
    "importances = dict(sorted(importances.items(), key=lambda item: item[1]))\n",
    "listofimportances = list(importances)"
   ]
  },
  {
   "cell_type": "code",
   "execution_count": 6,
   "metadata": {},
   "outputs": [],
   "source": [
    "toptenclustersbyimportance = listofimportances[-10:]"
   ]
  },
  {
   "cell_type": "code",
   "execution_count": 7,
   "metadata": {},
   "outputs": [
    {
     "data": {
      "text/plain": [
       "['system',\n",
       " 'bitcoin',\n",
       " 'ethereum',\n",
       " 'block',\n",
       " 'using',\n",
       " 'network',\n",
       " 'node',\n",
       " 'smart contract',\n",
       " 'transaction',\n",
       " 'blockchain']"
      ]
     },
     "execution_count": 7,
     "metadata": {},
     "output_type": "execute_result"
    }
   ],
   "source": [
    "toptenclustersbyimportance"
   ]
  },
  {
   "cell_type": "code",
   "execution_count": 8,
   "metadata": {},
   "outputs": [],
   "source": [
    "# simple cluster 2 - by adjacent edges\n",
    "dictionaryofadjacentnodes = {}\n",
    "for node, val in G.degree():\n",
    "    dictionaryofadjacentnodes[node] = val\n",
    "\n",
    "dictionaryofadjacentnodes = dict(sorted(dictionaryofadjacentnodes.items(), key=lambda item: item[1]))\n",
    "listofdictionaryofadjacentnodes = list(dictionaryofadjacentnodes)"
   ]
  },
  {
   "cell_type": "code",
   "execution_count": 9,
   "metadata": {},
   "outputs": [],
   "source": [
    "toptenclustersbyadjacentnodes = listofdictionaryofadjacentnodes[-10:]"
   ]
  },
  {
   "cell_type": "code",
   "execution_count": 10,
   "metadata": {},
   "outputs": [
    {
     "data": {
      "text/plain": [
       "['bitcoin',\n",
       " 'process',\n",
       " 'type',\n",
       " 'node',\n",
       " 'network',\n",
       " 'using',\n",
       " 'smart contract',\n",
       " 'transaction',\n",
       " 'ethereum',\n",
       " 'blockchain']"
      ]
     },
     "execution_count": 10,
     "metadata": {},
     "output_type": "execute_result"
    }
   ],
   "source": [
    "toptenclustersbyadjacentnodes"
   ]
  },
  {
   "cell_type": "code",
   "execution_count": 11,
   "metadata": {},
   "outputs": [],
   "source": [
    "topcluster = ['blockchain'] # for now"
   ]
  },
  {
   "cell_type": "code",
   "execution_count": 12,
   "metadata": {},
   "outputs": [],
   "source": [
    "# exporting the list of top clusters to .pickle\n",
    "with open('topclustersfrom7.pickle', 'wb') as file:\n",
    "    pickle.dump(topcluster, file)"
   ]
  },
  {
   "cell_type": "code",
   "execution_count": 13,
   "metadata": {},
   "outputs": [],
   "source": [
    "# changing all the edges according to the top cluster\n",
    "removeedges = []\n",
    "addedges = []\n",
    "for node in topcluster:\n",
    "    for predessornode in G.predecessors(node):\n",
    "        a = predessornode\n",
    "        b = node\n",
    "        if a not in topcluster:\n",
    "            addedges.append((b, a, G.edges[(a, b)]['weight']))\n",
    "            removeedges.append((a, b))\n",
    "            # run the algo (before running this code) to reduce multi-directional edges into 1\n",
    "G.add_weighted_edges_from(addedges)\n",
    "G.remove_edges_from(removeedges)"
   ]
  },
  {
   "cell_type": "code",
   "execution_count": 14,
   "metadata": {},
   "outputs": [],
   "source": [
    "# exporting the graph to .pickle\n",
    "with open('directedgraphoftopicsfrom7.pickle', 'wb') as file:\n",
    "    pickle.dump(G, file)"
   ]
  },
  {
   "cell_type": "code",
   "execution_count": null,
   "metadata": {},
   "outputs": [],
   "source": []
  }
 ],
 "metadata": {
  "kernelspec": {
   "display_name": "Python 3",
   "language": "python",
   "name": "python3"
  },
  "language_info": {
   "codemirror_mode": {
    "name": "ipython",
    "version": 3
   },
   "file_extension": ".py",
   "mimetype": "text/x-python",
   "name": "python",
   "nbconvert_exporter": "python",
   "pygments_lexer": "ipython3",
   "version": "3.8.3"
  }
 },
 "nbformat": 4,
 "nbformat_minor": 4
}
