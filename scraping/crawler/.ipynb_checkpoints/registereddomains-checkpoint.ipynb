{
 "cells": [
  {
   "cell_type": "code",
   "execution_count": 2,
   "metadata": {},
   "outputs": [],
   "source": [
    "import pandas as pd\n",
    "from crawler import *\n",
    "import pickle"
   ]
  },
  {
   "cell_type": "code",
   "execution_count": 2,
   "metadata": {},
   "outputs": [],
   "source": [
    "paragraphs = pd.DataFrame(columns=['tag', 'text'])\n",
    "headings = pd.DataFrame(columns=['tag', 'headingtext', 'subheading', 'nextheading', 'paragraphs'])\n",
    "database = pd.DataFrame(columns=['topicheadingID', 'url', 'totalsubheadings', 'totalparagraphs'])"
   ]
  },
  {
   "cell_type": "code",
   "execution_count": 3,
   "metadata": {},
   "outputs": [],
   "source": [
    "registereddomains = {'101blockchains':{'articlecontainer':{'tag':'article', 'attrs':None}, 'getlinks':{'tag':'h2', 'attrs':None}},\n",
    "                    'hackernoon':{'articlecontainer':{'tag':'main', 'attrs':None}, 'getlinks':{'tag':'article', 'attrs':None}},\n",
    "                    'dappradar':{'articlecontainer':{'tag':'article', 'attrs':None}, 'getlinks':{'tag':'article', 'attrs':None}}}"
   ]
  },
  {
   "cell_type": "code",
   "execution_count": 4,
   "metadata": {},
   "outputs": [],
   "source": [
    "with open('/Users/chinmayshrivastava/Desktop/OSCA/V4.0/scraping/registereddomains.pickle', 'wb') as file:\n",
    "    pickle.dump(registereddomains, file)"
   ]
  },
  {
   "cell_type": "code",
   "execution_count": null,
   "metadata": {},
   "outputs": [],
   "source": []
  }
 ],
 "metadata": {
  "kernelspec": {
   "display_name": "Python 3",
   "language": "python",
   "name": "python3"
  },
  "language_info": {
   "codemirror_mode": {
    "name": "ipython",
    "version": 3
   },
   "file_extension": ".py",
   "mimetype": "text/x-python",
   "name": "python",
   "nbconvert_exporter": "python",
   "pygments_lexer": "ipython3",
   "version": "3.8.3"
  }
 },
 "nbformat": 4,
 "nbformat_minor": 4
}
