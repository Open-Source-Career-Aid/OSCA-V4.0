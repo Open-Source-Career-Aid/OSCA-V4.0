{
 "cells": [
  {
   "cell_type": "code",
   "execution_count": 1,
   "metadata": {},
   "outputs": [],
   "source": [
    "import pandas as pd\n",
    "from crawler import *"
   ]
  },
  {
   "cell_type": "code",
   "execution_count": 2,
   "metadata": {},
   "outputs": [],
   "source": [
    "paragraphs = pd.DataFrame(columns=['tag', 'text'])\n",
    "headings = pd.DataFrame(columns=['tag', 'headingtext', 'subheading', 'nextheading', 'paragraphs'])\n",
    "database = pd.DataFrame(columns=['topicheadingID', 'url', 'totalsubheadings', 'totalparagraphs'])"
   ]
  },
  {
   "cell_type": "code",
   "execution_count": 3,
   "metadata": {},
   "outputs": [],
   "source": [
    "registereddomains = {'101blockchains':{'articlecontainer':{'tag':'article', 'attrs':None}, 'getlinks':{'tag':'h2', 'attrs':None}},\n",
    "                    'hackernoon':{'articlecontainer':{'tag':'main', 'attrs':None}, 'getlinks':{'tag':'article', 'attrs':None}},\n",
    "                    'academy.binance':{'articlecontainer':{'tag':'div', 'attrs':{'class':'css-1vuqhzi evdgnvq0'}, 'datacontainer':'article'}, 'getlinks':{'tag':'div', 'attrs':{'class':'css-1h1awnf e1yrco7p0'}}}}"
   ]
  },
  {
   "cell_type": "code",
   "execution_count": 13,
   "metadata": {},
   "outputs": [],
   "source": [
    "with open('/Users/chinmayshrivastava/Desktop/OSCA/V4.0/scraping/registereddomains.pickle', 'wb') as file:\n",
    "    pickle.dump(registereddomains, file)"
   ]
  }
 ],
 "metadata": {
  "kernelspec": {
   "display_name": "Python 3",
   "language": "python",
   "name": "python3"
  },
  "language_info": {
   "codemirror_mode": {
    "name": "ipython",
    "version": 3
   },
   "file_extension": ".py",
   "mimetype": "text/x-python",
   "name": "python",
   "nbconvert_exporter": "python",
   "pygments_lexer": "ipython3",
   "version": "3.8.3"
  }
 },
 "nbformat": 4,
 "nbformat_minor": 4
}
