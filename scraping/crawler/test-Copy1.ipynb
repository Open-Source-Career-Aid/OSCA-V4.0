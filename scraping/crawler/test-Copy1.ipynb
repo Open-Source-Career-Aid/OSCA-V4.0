{
 "cells": [
  {
   "cell_type": "code",
   "execution_count": 1,
   "metadata": {},
   "outputs": [],
   "source": [
    "import pandas as pd\n",
    "from crawler import *"
   ]
  },
  {
   "cell_type": "code",
   "execution_count": 2,
   "metadata": {},
   "outputs": [],
   "source": [
    "paragraphs = pd.DataFrame(columns=['tag', 'text'])\n",
    "headings = pd.DataFrame(columns=['tag', 'headingtext', 'subheading', 'nextheading', 'paragraphs'])\n",
    "database = pd.DataFrame(columns=['topicheadingID', 'url', 'totalsubheadings', 'totalparagraphs'])"
   ]
  },
  {
   "cell_type": "code",
   "execution_count": 3,
   "metadata": {},
   "outputs": [],
   "source": [
    "registereddomains = {'101blockchains':{'articlecontainer':{'tag':'article', 'attrs':None}, 'getlinks':{'tag':'h2', 'attrs':None}},\n",
    "                    'hackernoon':{'articlecontainer':{'tag':'main', 'attrs':None}, 'getlinks':{'tag':'article', 'attrs':None}},\n",
    "                    'academy.binance':{'articlecontainer':{'tag':'div', 'attrs':{'class':'css-1vuqhzi evdgnvq0'}, 'datacontainer':'article'}, 'getlinks':{'tag':'div', 'attrs':None}}}\n"
   ]
  },
  {
   "cell_type": "code",
   "execution_count": 8,
   "metadata": {},
   "outputs": [
    {
     "data": {
      "text/plain": [
       "['/en/articles/what-are-meme-coins',\n",
       " '/en/articles/bsc-metaverse-projects-you-should-know',\n",
       " '/en/articles/what-is-illuvium-ilv',\n",
       " '/en/articles/what-is-shiba-inu-shib',\n",
       " '/en/articles/what-is-cosmos-atom',\n",
       " '/en/articles/what-are-nft-mystery-boxes-and-how-do-they-work',\n",
       " '/en/articles/how-to-create-your-own-cryptocurrency',\n",
       " '/en/articles/how-to-use-the-ronin-wallet',\n",
       " '/en/articles/a-beginner-s-guide-to-binance-lite',\n",
       " '/en/articles/what-is-play-to-earn-and-how-to-cash-out',\n",
       " '/en/articles/what-are-binance-fan-tokens',\n",
       " '/en/articles/what-is-etherscan-and-how-to-use-it',\n",
       " '/en/articles/why-is-loot-project-trending-in-the-nft-gaming-community',\n",
       " '/en/articles/what-are-crypto-cards-and-how-do-they-work',\n",
       " '/en/articles/what-is-the-metaverse',\n",
       " '/en/articles/how-to-connect-a-ledger-nano-to-binance-smart-chain-bsc',\n",
       " '/en/articles/what-is-avalanche-avax',\n",
       " '/en/articles/what-are-nft-games-and-how-do-they-work']"
      ]
     },
     "execution_count": 8,
     "metadata": {},
     "output_type": "execute_result"
    }
   ],
   "source": [
    "getlinks('https://academy.binance.com/en/articles?page=5', 'academy.binance', registereddomains)"
   ]
  },
  {
   "cell_type": "code",
   "execution_count": 8,
   "metadata": {},
   "outputs": [],
   "source": [
    "database, headings, paragraphs = articlescraper('https://academy.binance.com//en/articles/why-is-loot-project-trending-in-the-nft-gaming-community', 'academy.binance', database, headings, paragraphs, registereddomains)"
   ]
  }
 ],
 "metadata": {
  "kernelspec": {
   "display_name": "Python 3",
   "language": "python",
   "name": "python3"
  },
  "language_info": {
   "codemirror_mode": {
    "name": "ipython",
    "version": 3
   },
   "file_extension": ".py",
   "mimetype": "text/x-python",
   "name": "python",
   "nbconvert_exporter": "python",
   "pygments_lexer": "ipython3",
   "version": "3.8.3"
  }
 },
 "nbformat": 4,
 "nbformat_minor": 4
}
