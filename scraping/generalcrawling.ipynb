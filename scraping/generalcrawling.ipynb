{
 "cells": [
  {
   "cell_type": "code",
   "execution_count": 1,
   "metadata": {},
   "outputs": [],
   "source": [
    "import sys\n",
    "sys.path.insert(1, '/Users/chinmayshrivastava/Desktop/OSCA/V4.0/scraping/crawler')\n",
    "from crawler import *"
   ]
  },
  {
   "cell_type": "code",
   "execution_count": 2,
   "metadata": {},
   "outputs": [],
   "source": [
    "registereddomains = pd.read_pickle('registereddomains.pickle')"
   ]
  },
  {
   "cell_type": "code",
   "execution_count": 3,
   "metadata": {},
   "outputs": [],
   "source": [
    "# database = pd.read_pickle('databasefromhnandbc101.pickle')\n",
    "# headings = pd.read_pickle('headingsfromhnandbc101.pickle')\n",
    "# paragraphs = pd.read_pickle('paragraphsfromhnandbc101.pickle')\n",
    "paragraphs = pd.DataFrame(columns=['tag', 'text'])\n",
    "headings = pd.DataFrame(columns=['tag', 'headingtext', 'subheading', 'nextheading', 'paragraphs'])\n",
    "database = pd.DataFrame(columns=['topicheadingID', 'url', 'totalsubheadings', 'totalparagraphs'])"
   ]
  },
  {
   "cell_type": "code",
   "execution_count": 4,
   "metadata": {},
   "outputs": [],
   "source": [
    "totalpages = 23\n",
    "name = 'academy.binance'"
   ]
  },
  {
   "cell_type": "code",
   "execution_count": 10,
   "metadata": {},
   "outputs": [],
   "source": [
    "links = []\n",
    "for pagenumber in range(totalpages):\n",
    "    url = f'https://academy.binance.com/en/articles?page={pagenumber+1}'\n",
    "    links.extend(getlinks(url, name, registereddomains))"
   ]
  },
  {
   "cell_type": "code",
   "execution_count": 7,
   "metadata": {},
   "outputs": [
    {
     "name": "stdout",
     "output_type": "stream",
     "text": [
      "https://academy.binance.com/en/articles/what-is-tokenomics-and-why-does-it-matter\n"
     ]
    }
   ],
   "source": [
    "i = 0\n",
    "for link in links:\n",
    "    url = f'https://academy.binance.com{link}'\n",
    "    print(url)\n",
    "    database, headings, paragraphs, descendants = articlescraper(url, name, database, headings, paragraphs, registereddomains)\n",
    "    if i%25==0 and i!=0:\n",
    "        j = 0\n",
    "        for databaseid in database.index:\n",
    "            if database.iloc[databaseid]['totalsubheadings']+database.iloc[databaseid]['totalparagraphs']!=0:\n",
    "                j+=1\n",
    "        print(j)\n",
    "        print('sleeping...')\n",
    "        time.sleep(10)\n",
    "        i+=1\n",
    "    else:\n",
    "        i+=1\n",
    "    break"
   ]
  },
  {
   "cell_type": "code",
   "execution_count": 6,
   "metadata": {},
   "outputs": [
    {
     "data": {
      "text/plain": [
       "402"
      ]
     },
     "execution_count": 6,
     "metadata": {},
     "output_type": "execute_result"
    }
   ],
   "source": [
    "len(links)"
   ]
  },
  {
   "cell_type": "code",
   "execution_count": 6,
   "metadata": {},
   "outputs": [],
   "source": [
    "links = pd.read_pickle('binancelinks.pickle')"
   ]
  },
  {
   "cell_type": "code",
   "execution_count": 8,
   "metadata": {},
   "outputs": [
    {
     "data": {
      "text/html": [
       "<div>\n",
       "<style scoped>\n",
       "    .dataframe tbody tr th:only-of-type {\n",
       "        vertical-align: middle;\n",
       "    }\n",
       "\n",
       "    .dataframe tbody tr th {\n",
       "        vertical-align: top;\n",
       "    }\n",
       "\n",
       "    .dataframe thead th {\n",
       "        text-align: right;\n",
       "    }\n",
       "</style>\n",
       "<table border=\"1\" class=\"dataframe\">\n",
       "  <thead>\n",
       "    <tr style=\"text-align: right;\">\n",
       "      <th></th>\n",
       "      <th>topicheadingID</th>\n",
       "      <th>url</th>\n",
       "      <th>totalsubheadings</th>\n",
       "      <th>totalparagraphs</th>\n",
       "    </tr>\n",
       "  </thead>\n",
       "  <tbody>\n",
       "    <tr>\n",
       "      <th>0</th>\n",
       "      <td>0</td>\n",
       "      <td>https://academy.binance.com/en/articles/what-i...</td>\n",
       "      <td>0</td>\n",
       "      <td>0</td>\n",
       "    </tr>\n",
       "  </tbody>\n",
       "</table>\n",
       "</div>"
      ],
      "text/plain": [
       "  topicheadingID                                                url  \\\n",
       "0              0  https://academy.binance.com/en/articles/what-i...   \n",
       "\n",
       "  totalsubheadings totalparagraphs  \n",
       "0                0               0  "
      ]
     },
     "execution_count": 8,
     "metadata": {},
     "output_type": "execute_result"
    }
   ],
   "source": [
    "database"
   ]
  },
  {
   "cell_type": "code",
   "execution_count": 10,
   "metadata": {},
   "outputs": [],
   "source": [
    "for element in descendants:\n",
    "    print(descendants.name)"
   ]
  },
  {
   "cell_type": "code",
   "execution_count": null,
   "metadata": {},
   "outputs": [],
   "source": []
  }
 ],
 "metadata": {
  "kernelspec": {
   "display_name": "Python 3",
   "language": "python",
   "name": "python3"
  },
  "language_info": {
   "codemirror_mode": {
    "name": "ipython",
    "version": 3
   },
   "file_extension": ".py",
   "mimetype": "text/x-python",
   "name": "python",
   "nbconvert_exporter": "python",
   "pygments_lexer": "ipython3",
   "version": "3.8.3"
  }
 },
 "nbformat": 4,
 "nbformat_minor": 4
}
