{
 "cells": [
  {
   "cell_type": "code",
   "execution_count": 23,
   "metadata": {},
   "outputs": [],
   "source": [
    "import sys\n",
    "sys.path.insert(1, '/Users/chinmayshrivastava/Desktop/OSCA/V4.0/scraping/crawler')\n",
    "from crawler import *"
   ]
  },
  {
   "cell_type": "code",
   "execution_count": 137,
   "metadata": {},
   "outputs": [],
   "source": [
    "registereddomains = pd.read_pickle('registereddomains.pickle')"
   ]
  },
  {
   "cell_type": "code",
   "execution_count": 146,
   "metadata": {},
   "outputs": [],
   "source": [
    "database = pd.read_pickle('databasetemp.pickle')\n",
    "headings = pd.read_pickle('headingstemp.pickle')\n",
    "paragraphs = pd.read_pickle('paragraphstemp.pickle')\n",
    "# paragraphs = pd.DataFrame(columns=['tag', 'text'])\n",
    "# headings = pd.DataFrame(columns=['tag', 'headingtext', 'subheading', 'nextheading', 'paragraphs'])\n",
    "# database = pd.DataFrame(columns=['topicheadingID', 'url', 'totalsubheadings', 'totalparagraphs'])"
   ]
  },
  {
   "cell_type": "code",
   "execution_count": 139,
   "metadata": {},
   "outputs": [],
   "source": [
    "totalpages = 120\n",
    "name = 'blockchain-council'"
   ]
  },
  {
   "cell_type": "code",
   "execution_count": 150,
   "metadata": {},
   "outputs": [
    {
     "name": "stdout",
     "output_type": "stream",
     "text": [
      "120\n"
     ]
    }
   ],
   "source": [
    "links = []\n",
    "for pagenumber in range(totalpages):\n",
    "    url = f'https://www.blockchain-council.org/category/blockchain/page/{pagenumber+1}/'\n",
    "    links.extend(getlinks(url, name, registereddomains))\n",
    "    print(pagenumber+1)"
   ]
  },
  {
   "cell_type": "code",
   "execution_count": 141,
   "metadata": {},
   "outputs": [
    {
     "data": {
      "text/plain": [
       "['https://www.blockchain-council.org/blockchain/impact-of-blockchain-on-marketing-and-advertising-in-2022/',\n",
       " 'https://www.blockchain-council.org/blockchain/blockchain-byzantine-fault-tolerant/',\n",
       " 'https://www.blockchain-council.org/blockchain/blockchain-real-world-use-cases/',\n",
       " 'https://www.blockchain-council.org/blockchain/blockchain-fad-or-future/',\n",
       " 'https://www.blockchain-council.org/blockchain/eos-buying-and-selling/',\n",
       " 'https://www.blockchain-council.org/blockchain/boson-protocol-and-boson-token/',\n",
       " 'https://www.blockchain-council.org/blockchain/what-is-internet-computer-blockchain-icp-token/',\n",
       " 'https://www.blockchain-council.org/blockchain/what-are-parachains/',\n",
       " 'https://www.blockchain-council.org/blockchain/what-is-cosmos/',\n",
       " 'https://www.blockchain-council.org/blockchain/gamefi/']"
      ]
     },
     "execution_count": 141,
     "metadata": {},
     "output_type": "execute_result"
    }
   ],
   "source": [
    "links"
   ]
  },
  {
   "cell_type": "code",
   "execution_count": 151,
   "metadata": {},
   "outputs": [],
   "source": [
    "links = list(set(links))"
   ]
  },
  {
   "cell_type": "code",
   "execution_count": 87,
   "metadata": {},
   "outputs": [],
   "source": [
    "links = [f'https://dappradar.com{element}' for element in links]"
   ]
  },
  {
   "cell_type": "code",
   "execution_count": 17,
   "metadata": {},
   "outputs": [],
   "source": [
    "links = pd.read_pickle('templinks.pickle')"
   ]
  },
  {
   "cell_type": "code",
   "execution_count": 155,
   "metadata": {},
   "outputs": [
    {
     "name": "stdout",
     "output_type": "stream",
     "text": [
      "https://www.blockchain-council.org/blockchain/role-of-cryptocurrency-and-blockchain-in-changing-entrepreneurship/\n"
     ]
    }
   ],
   "source": [
    "i = 0\n",
    "jminus = 0\n",
    "for databaseid in database.index:\n",
    "    if database.iloc[databaseid]['totalsubheadings']+database.iloc[databaseid]['totalparagraphs']!=0:\n",
    "        jminus+=1\n",
    "for link in links[978:]:\n",
    "#     url = f'https://academy.binance.com{link}'\n",
    "    url = link\n",
    "    database, headings, paragraphs, desc = articlescraper(url, name, database, headings, paragraphs, registereddomains)\n",
    "    print(url)\n",
    "    if i%10==0 and i!=0:\n",
    "        j = 0\n",
    "        for databaseid in database.index:\n",
    "            if database.iloc[databaseid]['totalsubheadings']+database.iloc[databaseid]['totalparagraphs']!=0:\n",
    "                j+=1\n",
    "        print(i, j-jminus)\n",
    "        print('sleeping...')\n",
    "        time.sleep(10)\n",
    "        i+=1\n",
    "    else:\n",
    "        i+=1"
   ]
  },
  {
   "cell_type": "code",
   "execution_count": 156,
   "metadata": {},
   "outputs": [
    {
     "data": {
      "text/plain": [
       "218"
      ]
     },
     "execution_count": 156,
     "metadata": {},
     "output_type": "execute_result"
    }
   ],
   "source": [
    "i"
   ]
  },
  {
   "cell_type": "code",
   "execution_count": 157,
   "metadata": {},
   "outputs": [
    {
     "data": {
      "text/html": [
       "<div>\n",
       "<style scoped>\n",
       "    .dataframe tbody tr th:only-of-type {\n",
       "        vertical-align: middle;\n",
       "    }\n",
       "\n",
       "    .dataframe tbody tr th {\n",
       "        vertical-align: top;\n",
       "    }\n",
       "\n",
       "    .dataframe thead th {\n",
       "        text-align: right;\n",
       "    }\n",
       "</style>\n",
       "<table border=\"1\" class=\"dataframe\">\n",
       "  <thead>\n",
       "    <tr style=\"text-align: right;\">\n",
       "      <th></th>\n",
       "      <th>topicheadingID</th>\n",
       "      <th>url</th>\n",
       "      <th>totalsubheadings</th>\n",
       "      <th>totalparagraphs</th>\n",
       "    </tr>\n",
       "  </thead>\n",
       "  <tbody>\n",
       "    <tr>\n",
       "      <th>0</th>\n",
       "      <td>0</td>\n",
       "      <td>https://academy.binance.com/en/articles/top-7-...</td>\n",
       "      <td>9</td>\n",
       "      <td>24</td>\n",
       "    </tr>\n",
       "    <tr>\n",
       "      <th>1</th>\n",
       "      <td>10</td>\n",
       "      <td>https://academy.binance.com/en/articles/what-i...</td>\n",
       "      <td>18</td>\n",
       "      <td>61</td>\n",
       "    </tr>\n",
       "    <tr>\n",
       "      <th>2</th>\n",
       "      <td>29</td>\n",
       "      <td>https://academy.binance.com/en/articles/proof-...</td>\n",
       "      <td>23</td>\n",
       "      <td>28</td>\n",
       "    </tr>\n",
       "    <tr>\n",
       "      <th>3</th>\n",
       "      <td>53</td>\n",
       "      <td>https://academy.binance.com/en/articles/what-a...</td>\n",
       "      <td>14</td>\n",
       "      <td>25</td>\n",
       "    </tr>\n",
       "    <tr>\n",
       "      <th>4</th>\n",
       "      <td>68</td>\n",
       "      <td>https://academy.binance.com/en/articles/binanc...</td>\n",
       "      <td>0</td>\n",
       "      <td>0</td>\n",
       "    </tr>\n",
       "    <tr>\n",
       "      <th>...</th>\n",
       "      <td>...</td>\n",
       "      <td>...</td>\n",
       "      <td>...</td>\n",
       "      <td>...</td>\n",
       "    </tr>\n",
       "    <tr>\n",
       "      <th>2249</th>\n",
       "      <td>14911</td>\n",
       "      <td>https://www.blockchain-council.org/blockchain/...</td>\n",
       "      <td>0</td>\n",
       "      <td>28</td>\n",
       "    </tr>\n",
       "    <tr>\n",
       "      <th>2250</th>\n",
       "      <td>14912</td>\n",
       "      <td>https://www.blockchain-council.org/blockchain/...</td>\n",
       "      <td>0</td>\n",
       "      <td>11</td>\n",
       "    </tr>\n",
       "    <tr>\n",
       "      <th>2251</th>\n",
       "      <td>14913</td>\n",
       "      <td>https://www.blockchain-council.org/blockchain/...</td>\n",
       "      <td>4</td>\n",
       "      <td>16</td>\n",
       "    </tr>\n",
       "    <tr>\n",
       "      <th>2252</th>\n",
       "      <td>14918</td>\n",
       "      <td>https://www.blockchain-council.org/blockchain/...</td>\n",
       "      <td>14</td>\n",
       "      <td>32</td>\n",
       "    </tr>\n",
       "    <tr>\n",
       "      <th>2253</th>\n",
       "      <td>14933</td>\n",
       "      <td>https://www.blockchain-council.org/blockchain/...</td>\n",
       "      <td>9</td>\n",
       "      <td>42</td>\n",
       "    </tr>\n",
       "  </tbody>\n",
       "</table>\n",
       "<p>2254 rows × 4 columns</p>\n",
       "</div>"
      ],
      "text/plain": [
       "     topicheadingID                                                url  \\\n",
       "0                 0  https://academy.binance.com/en/articles/top-7-...   \n",
       "1                10  https://academy.binance.com/en/articles/what-i...   \n",
       "2                29  https://academy.binance.com/en/articles/proof-...   \n",
       "3                53  https://academy.binance.com/en/articles/what-a...   \n",
       "4                68  https://academy.binance.com/en/articles/binanc...   \n",
       "...             ...                                                ...   \n",
       "2249          14911  https://www.blockchain-council.org/blockchain/...   \n",
       "2250          14912  https://www.blockchain-council.org/blockchain/...   \n",
       "2251          14913  https://www.blockchain-council.org/blockchain/...   \n",
       "2252          14918  https://www.blockchain-council.org/blockchain/...   \n",
       "2253          14933  https://www.blockchain-council.org/blockchain/...   \n",
       "\n",
       "     totalsubheadings totalparagraphs  \n",
       "0                   9              24  \n",
       "1                  18              61  \n",
       "2                  23              28  \n",
       "3                  14              25  \n",
       "4                   0               0  \n",
       "...               ...             ...  \n",
       "2249                0              28  \n",
       "2250                0              11  \n",
       "2251                4              16  \n",
       "2252               14              32  \n",
       "2253                9              42  \n",
       "\n",
       "[2254 rows x 4 columns]"
      ]
     },
     "execution_count": 157,
     "metadata": {},
     "output_type": "execute_result"
    }
   ],
   "source": [
    "database"
   ]
  },
  {
   "cell_type": "code",
   "execution_count": 158,
   "metadata": {},
   "outputs": [
    {
     "data": {
      "text/html": [
       "<div>\n",
       "<style scoped>\n",
       "    .dataframe tbody tr th:only-of-type {\n",
       "        vertical-align: middle;\n",
       "    }\n",
       "\n",
       "    .dataframe tbody tr th {\n",
       "        vertical-align: top;\n",
       "    }\n",
       "\n",
       "    .dataframe thead th {\n",
       "        text-align: right;\n",
       "    }\n",
       "</style>\n",
       "<table border=\"1\" class=\"dataframe\">\n",
       "  <thead>\n",
       "    <tr style=\"text-align: right;\">\n",
       "      <th></th>\n",
       "      <th>tag</th>\n",
       "      <th>headingtext</th>\n",
       "      <th>subheading</th>\n",
       "      <th>nextheading</th>\n",
       "      <th>paragraphs</th>\n",
       "    </tr>\n",
       "  </thead>\n",
       "  <tbody>\n",
       "    <tr>\n",
       "      <th>0</th>\n",
       "      <td>topic</td>\n",
       "      <td>Top 7 NFT Use Cases</td>\n",
       "      <td>1</td>\n",
       "      <td>None</td>\n",
       "      <td>[0]</td>\n",
       "    </tr>\n",
       "    <tr>\n",
       "      <th>1</th>\n",
       "      <td>h2</td>\n",
       "      <td>Introduction</td>\n",
       "      <td>None</td>\n",
       "      <td>2</td>\n",
       "      <td>[1, 2]</td>\n",
       "    </tr>\n",
       "    <tr>\n",
       "      <th>2</th>\n",
       "      <td>h2</td>\n",
       "      <td>Art NFTs</td>\n",
       "      <td>None</td>\n",
       "      <td>3</td>\n",
       "      <td>[3, 4]</td>\n",
       "    </tr>\n",
       "    <tr>\n",
       "      <th>3</th>\n",
       "      <td>h2</td>\n",
       "      <td>Collectible NFTs</td>\n",
       "      <td>None</td>\n",
       "      <td>4</td>\n",
       "      <td>[5, 6]</td>\n",
       "    </tr>\n",
       "    <tr>\n",
       "      <th>4</th>\n",
       "      <td>h2</td>\n",
       "      <td>Finance NFTs</td>\n",
       "      <td>None</td>\n",
       "      <td>5</td>\n",
       "      <td>[7]</td>\n",
       "    </tr>\n",
       "    <tr>\n",
       "      <th>...</th>\n",
       "      <td>...</td>\n",
       "      <td>...</td>\n",
       "      <td>...</td>\n",
       "      <td>...</td>\n",
       "      <td>...</td>\n",
       "    </tr>\n",
       "    <tr>\n",
       "      <th>14938</th>\n",
       "      <td>h3</td>\n",
       "      <td>Access to Business-Related Education</td>\n",
       "      <td>None</td>\n",
       "      <td>14939</td>\n",
       "      <td>[58193, 58194]</td>\n",
       "    </tr>\n",
       "    <tr>\n",
       "      <th>14939</th>\n",
       "      <td>h3</td>\n",
       "      <td>Enables Reward Systems</td>\n",
       "      <td>None</td>\n",
       "      <td>14940</td>\n",
       "      <td>[58195, 58196, 58197, 58198, 58199]</td>\n",
       "    </tr>\n",
       "    <tr>\n",
       "      <th>14940</th>\n",
       "      <td>h3</td>\n",
       "      <td>Offers Customer Loyalty Platform</td>\n",
       "      <td>None</td>\n",
       "      <td>14941</td>\n",
       "      <td>[58200, 58201, 58202, 58203]</td>\n",
       "    </tr>\n",
       "    <tr>\n",
       "      <th>14941</th>\n",
       "      <td>h3</td>\n",
       "      <td>Cryptocurrencies Can Avoid fraud</td>\n",
       "      <td>None</td>\n",
       "      <td>14942</td>\n",
       "      <td>[58204, 58205, 58206]</td>\n",
       "    </tr>\n",
       "    <tr>\n",
       "      <th>14942</th>\n",
       "      <td>h3</td>\n",
       "      <td>Final Words</td>\n",
       "      <td>None</td>\n",
       "      <td>None</td>\n",
       "      <td>[58207, 58208, 58209, 58210, 58211]</td>\n",
       "    </tr>\n",
       "  </tbody>\n",
       "</table>\n",
       "<p>14943 rows × 5 columns</p>\n",
       "</div>"
      ],
      "text/plain": [
       "         tag                           headingtext subheading nextheading  \\\n",
       "0      topic                   Top 7 NFT Use Cases          1        None   \n",
       "1         h2                          Introduction       None           2   \n",
       "2         h2                              Art NFTs       None           3   \n",
       "3         h2                      Collectible NFTs       None           4   \n",
       "4         h2                          Finance NFTs       None           5   \n",
       "...      ...                                   ...        ...         ...   \n",
       "14938     h3  Access to Business-Related Education       None       14939   \n",
       "14939     h3                Enables Reward Systems       None       14940   \n",
       "14940     h3      Offers Customer Loyalty Platform       None       14941   \n",
       "14941     h3      Cryptocurrencies Can Avoid fraud       None       14942   \n",
       "14942     h3                          Final Words        None        None   \n",
       "\n",
       "                                paragraphs  \n",
       "0                                      [0]  \n",
       "1                                   [1, 2]  \n",
       "2                                   [3, 4]  \n",
       "3                                   [5, 6]  \n",
       "4                                      [7]  \n",
       "...                                    ...  \n",
       "14938                       [58193, 58194]  \n",
       "14939  [58195, 58196, 58197, 58198, 58199]  \n",
       "14940         [58200, 58201, 58202, 58203]  \n",
       "14941                [58204, 58205, 58206]  \n",
       "14942  [58207, 58208, 58209, 58210, 58211]  \n",
       "\n",
       "[14943 rows x 5 columns]"
      ]
     },
     "execution_count": 158,
     "metadata": {},
     "output_type": "execute_result"
    }
   ],
   "source": [
    "headings"
   ]
  },
  {
   "cell_type": "code",
   "execution_count": 162,
   "metadata": {},
   "outputs": [
    {
     "data": {
      "text/html": [
       "<div>\n",
       "<style scoped>\n",
       "    .dataframe tbody tr th:only-of-type {\n",
       "        vertical-align: middle;\n",
       "    }\n",
       "\n",
       "    .dataframe tbody tr th {\n",
       "        vertical-align: top;\n",
       "    }\n",
       "\n",
       "    .dataframe thead th {\n",
       "        text-align: right;\n",
       "    }\n",
       "</style>\n",
       "<table border=\"1\" class=\"dataframe\">\n",
       "  <thead>\n",
       "    <tr style=\"text-align: right;\">\n",
       "      <th></th>\n",
       "      <th>tag</th>\n",
       "      <th>text</th>\n",
       "    </tr>\n",
       "  </thead>\n",
       "  <tbody>\n",
       "    <tr>\n",
       "      <th>0</th>\n",
       "      <td>p</td>\n",
       "      <td>TL;DR</td>\n",
       "    </tr>\n",
       "    <tr>\n",
       "      <th>1</th>\n",
       "      <td>p</td>\n",
       "      <td>The development of NFTs has brought us crypto ...</td>\n",
       "    </tr>\n",
       "    <tr>\n",
       "      <th>2</th>\n",
       "      <td>p</td>\n",
       "      <td>While the NFT ecosystem is still young, there ...</td>\n",
       "    </tr>\n",
       "    <tr>\n",
       "      <th>3</th>\n",
       "      <td>p</td>\n",
       "      <td>Non-fungible tokens have helped solve long-sta...</td>\n",
       "    </tr>\n",
       "    <tr>\n",
       "      <th>4</th>\n",
       "      <td>p</td>\n",
       "      <td>When it comes to NFTs, the value isn’t necessa...</td>\n",
       "    </tr>\n",
       "    <tr>\n",
       "      <th>...</th>\n",
       "      <td>...</td>\n",
       "      <td>...</td>\n",
       "    </tr>\n",
       "    <tr>\n",
       "      <th>58207</th>\n",
       "      <td>p</td>\n",
       "      <td></td>\n",
       "    </tr>\n",
       "    <tr>\n",
       "      <th>58208</th>\n",
       "      <td>p</td>\n",
       "      <td>The revolution of Cryptocurrency and Blockchai...</td>\n",
       "    </tr>\n",
       "    <tr>\n",
       "      <th>58209</th>\n",
       "      <td>p</td>\n",
       "      <td></td>\n",
       "    </tr>\n",
       "    <tr>\n",
       "      <th>58210</th>\n",
       "      <td>p</td>\n",
       "      <td>To get instant updates about Blockchain Techno...</td>\n",
       "    </tr>\n",
       "    <tr>\n",
       "      <th>58211</th>\n",
       "      <td>p</td>\n",
       "      <td></td>\n",
       "    </tr>\n",
       "  </tbody>\n",
       "</table>\n",
       "<p>58212 rows × 2 columns</p>\n",
       "</div>"
      ],
      "text/plain": [
       "      tag                                               text\n",
       "0       p                                              TL;DR\n",
       "1       p  The development of NFTs has brought us crypto ...\n",
       "2       p  While the NFT ecosystem is still young, there ...\n",
       "3       p  Non-fungible tokens have helped solve long-sta...\n",
       "4       p  When it comes to NFTs, the value isn’t necessa...\n",
       "...    ..                                                ...\n",
       "58207   p                                                   \n",
       "58208   p  The revolution of Cryptocurrency and Blockchai...\n",
       "58209   p                                                   \n",
       "58210   p  To get instant updates about Blockchain Techno...\n",
       "58211   p                                                   \n",
       "\n",
       "[58212 rows x 2 columns]"
      ]
     },
     "execution_count": 162,
     "metadata": {},
     "output_type": "execute_result"
    }
   ],
   "source": [
    "paragraphs"
   ]
  },
  {
   "cell_type": "code",
   "execution_count": 27,
   "metadata": {},
   "outputs": [],
   "source": [
    "with open('templinks.pickle', 'wb') as file:\n",
    "    pickle.dump(links, file)"
   ]
  },
  {
   "cell_type": "code",
   "execution_count": 163,
   "metadata": {},
   "outputs": [],
   "source": [
    "with open('headingstemp.pickle', 'wb') as file:\n",
    "    pickle.dump(headings, file)\n",
    "with open('paragraphstemp.pickle', 'wb') as file:\n",
    "    pickle.dump(paragraphs, file)\n",
    "with open('databasetemp.pickle', 'wb') as file:\n",
    "    pickle.dump(database, file)"
   ]
  },
  {
   "cell_type": "code",
   "execution_count": null,
   "metadata": {},
   "outputs": [],
   "source": []
  }
 ],
 "metadata": {
  "kernelspec": {
   "display_name": "Python 3",
   "language": "python",
   "name": "python3"
  },
  "language_info": {
   "codemirror_mode": {
    "name": "ipython",
    "version": 3
   },
   "file_extension": ".py",
   "mimetype": "text/x-python",
   "name": "python",
   "nbconvert_exporter": "python",
   "pygments_lexer": "ipython3",
   "version": "3.8.3"
  }
 },
 "nbformat": 4,
 "nbformat_minor": 4
}
