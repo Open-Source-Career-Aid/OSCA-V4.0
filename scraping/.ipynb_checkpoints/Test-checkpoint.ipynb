{
 "cells": [
  {
   "cell_type": "code",
   "execution_count": 2,
   "metadata": {},
   "outputs": [],
   "source": [
    "import sys\n",
    "sys.path.insert(1, '/Users/chinmayshrivastava/Desktop/OSCA/V4.0/scraping/crawler')\n",
    "from generalcrawler import *"
   ]
  },
  {
   "cell_type": "code",
   "execution_count": 2,
   "metadata": {},
   "outputs": [],
   "source": [
    "kwdata = pd.read_pickle('synonymsdata.pickle')\n",
    "urlscraped = {}"
   ]
  },
  {
   "cell_type": "code",
   "execution_count": 2,
   "metadata": {},
   "outputs": [],
   "source": [
    "i=0\n",
    "for kwid in kwdata:\n",
    "    i+=1\n",
    "    if kwid == 0:\n",
    "        continue\n",
    "    q = f\"what is {kwdata[kwid]['name']} blockchain\"\n",
    "    engine = Google()\n",
    "    results = engine.search(q)\n",
    "    links = results.links()\n",
    "    for link in links:\n",
    "        urlscraped[link] = False\n",
    "    clear_output(wait=True)\n",
    "    print(q, len(links), len(urlscraped), i)"
   ]
  },
  {
   "cell_type": "code",
   "execution_count": 3,
   "metadata": {},
   "outputs": [],
   "source": [
    "url = 'https://www.synopsys.com/glossary/what-is-blockchain.html'\n",
    "database, headings, paragraphs = articlescraper(url, dynamic=True)"
   ]
  },
  {
   "cell_type": "code",
   "execution_count": 4,
   "metadata": {},
   "outputs": [
    {
     "data": {
      "text/plain": [
       "[['topic', 'Blockchain', 1, None, [0]],\n",
       " ['h2', 'Definition', None, 2, [1, 2, 3, 4, 5, 6, 7, 8, 9, 10]],\n",
       " ['h2',\n",
       "  'What are the business benefits of blockchain?',\n",
       "  3,\n",
       "  4,\n",
       "  [11, 12, 13, 14]],\n",
       " ['h3',\n",
       "  'How to adapt software security best practices to blockchain',\n",
       "  None,\n",
       "  None,\n",
       "  [15]],\n",
       " ['h2',\n",
       "  'Blockchain explained',\n",
       "  None,\n",
       "  5,\n",
       "  [16, 17, 18, 19, 20, 21, 22, 23, 24, 25, 26, 27]],\n",
       " ['h2', 'Blockchain and Hyperledger', None, 6, [28, 29, 30]],\n",
       " ['h2', 'Blockchain security', None, 7, [31, 32, 33, 34, 35]],\n",
       " ['h2', 'Continue reading', 8, None, []],\n",
       " ['h4', 'Synopsys Solutions for Application Security', None, 9, [36]],\n",
       " ['h4',\n",
       "  'Gartner Magic Quadrant for Application Security Testing',\n",
       "  None,\n",
       "  10,\n",
       "  [37]],\n",
       " ['h4', 'Software Risk is Business Risk', None, 11, [38]],\n",
       " ['h4', 'Ready to get started?', None, None, [39]]]"
      ]
     },
     "execution_count": 4,
     "metadata": {},
     "output_type": "execute_result"
    }
   ],
   "source": [
    "headings"
   ]
  },
  {
   "cell_type": "code",
   "execution_count": 5,
   "metadata": {},
   "outputs": [
    {
     "data": {
      "text/plain": [
       "[['p', 'Blockchain', []],\n",
       " ['p',\n",
       "  'A blockchain is “a distributed database that maintains a continuously growing list of ordered records, called blocks.” These blocks “are linked using cryptography. Each block contains a cryptographic hash of the previous block, a timestamp, and transaction data. A blockchain is a decentralized, distributed and public digital ledger that is used to record transactions across many computers so that the record cannot be altered retroactively without the alteration of all subsequent blocks and the consensus of the network.”',\n",
       "  []],\n",
       " ['p',\n",
       "  'As explained by Wikipedia, “Blockchain was invented by Satoshi Nakamoto”—the pseudonym of an unknown person or persons—“in 2008 to serve as the public transaction ledger of the cryptocurrency bitcoin… [which] made it the first digital currency to solve the double-spending problem without the need of a trusted authority or central server.”',\n",
       "  []],\n",
       " ['p',\n",
       "  'While blockchain is still largely confined to use in recording and storing transactions for\\xa0cryptocurrencies\\xa0such as Bitcoin, proponents of blockchain technology are developing and testing other uses for blockchain, including these:',\n",
       "  [['https://www.synopsys.com/blogs/software-security/blockchain-security-cryptocurrency-theory/',\n",
       "    'cryptocurrencies']]],\n",
       " ['uli',\n",
       "  'Blockchain for payment processing and money transfers.\\xa0Transactions processed over a blockchain could be settled within a matter of seconds and reduce (or eliminate) banking transfer fees.',\n",
       "  []],\n",
       " ['uli',\n",
       "  'Blockchain for monitoring of supply chains.\\xa0Using blockchain, businesses could pinpoint inefficiencies within their supply chains quickly, as well as locate items in real time and see how products perform from a quality-control perspective as they travel from manufacturers to retailers.',\n",
       "  []],\n",
       " ['uli',\n",
       "  'Blockchain for digital IDs.\\xa0Microsoft\\xa0is experimenting with blockchain technology to help people control their digital identities, while also giving users control over who accesses that data.',\n",
       "  []],\n",
       " ['uli',\n",
       "  'Blockchain for data sharing.\\xa0Blockchain could act as an intermediary to securely store and move enterprise data among industries.',\n",
       "  []],\n",
       " ['uli',\n",
       "  'Blockchain for copyright and royalties protection.\\xa0Blockchain could be used to create a decentralized database that ensures artists maintain their music rights and provides transparent and real-time royalty distributions to musicians. Blockchain could also do the same for open source developers.',\n",
       "  []],\n",
       " ['uli',\n",
       "  'Blockchain for Internet of Things network management.\\xa0Blockchain could become a regulator of\\xa0IoT\\xa0networks to “identify devices connected to a wireless network, monitor the activity of those devices, and determine how trustworthy those devices are” and to “automatically assess the trustworthiness of new devices being added to the network, such as cars and smartphones.”',\n",
       "  [['https://www.synopsys.com/software-integrity/solutions/iot-embedded.html',\n",
       "    'IoT']]],\n",
       " ['uli',\n",
       "  'Blockchain for healthcare.\\xa0Blockchain could also play an important role in healthcare: “Healthcare payers and providers are using blockchain to manage clinical trials data and electronic medical records while maintaining regulatory compliance.”',\n",
       "  []],\n",
       " ['p',\n",
       "  'The primary benefit of blockchain is as a database for recording transactions, but its benefits extend far beyond those of a traditional database. Most notably, it removes the possibility of tampering by a malicious actor, as well as providing\\xa0these business benefits:',\n",
       "  []],\n",
       " ['uli',\n",
       "  'Time savings.\\xa0Blockchain slashes transaction times from days to minutes. Transaction settlement is faster because it doesn’t require verification by a central authority.',\n",
       "  []],\n",
       " ['uli',\n",
       "  'Cost savings.\\xa0Transactions need less oversight. Participants can exchange items of value directly. Blockchain eliminates duplication of effort because participants have access to a shared ledger.',\n",
       "  []],\n",
       " ['uli',\n",
       "  'Tighter security.\\xa0Blockchain’s security features protect against tampering, fraud, and cybercrime.',\n",
       "  []],\n",
       " ['p',\n",
       "  'Learn more',\n",
       "  [['https://www.synopsys.com/blogs/software-security/blockchain-software-security-best-practices/',\n",
       "    'Learn more']]],\n",
       " ['p',\n",
       "  'As described in\\xa0Blockchain for Dummies, “Blockchain\\xa0owes its name to the way it stores transaction data—in\\xa0blocks\\xa0linked together to form a\\xa0chain. As the number of transactions grows, so does the blockchain. Blocks record and confirm the time and sequence of transactions, which are then logged into the blockchain, within a discrete network governed by rules agreed to by the network participants.',\n",
       "  []],\n",
       " ['p',\n",
       "  '“Each block contains a\\xa0hash\\xa0(a digital fingerprint or unique identifier), timestamped batches of recent valid transactions, and the hash of the previous block. The previous block hash links the blocks together and prevents any block from being altered or a block being inserted between two existing blocks.” In theory, the method renders the blockchain tamperproof.',\n",
       "  []],\n",
       " ['p', 'The\\xa0four key concepts\\xa0behind blockchain are:', []],\n",
       " ['uli',\n",
       "  'Shared ledger.\\xa0A shared ledger is an “append-only” distributed system of record shared across a business network. “With a shared ledger, transactions are recorded only once, eliminating the duplication of effort that’s typical of traditional business networks.”',\n",
       "  []],\n",
       " ['uli',\n",
       "  'Permissions.\\xa0Permissions ensure that transactions are secure, authenticated, and verifiable. “With the ability to constrain network participation, organizations can more easily comply with data protection regulations, such as those stipulated in the Health Insurance Portability and Accountability Act (HIPAA)” and the EU General Data Protection Regulation (GDPR).',\n",
       "  []],\n",
       " ['uli',\n",
       "  'Smart contracts.\\xa0A smart contract is “an agreement or set of rules that govern a business transaction; it’s stored on the blockchain and is executed automatically as part of a transaction.”',\n",
       "  []],\n",
       " ['uli',\n",
       "  'Consensus.\\xa0Through consensus, all parties agree to the network-verified transaction. Blockchains have various consensus mechanisms, including\\xa0proof of stake,\\xa0multisignature, and\\xa0PBFT\\xa0(practical Byzantine fault tolerance).',\n",
       "  [['https://en.wikipedia.org/wiki/Proof-of-stake', 'proof of stake'],\n",
       "   ['https://en.wikipedia.org/wiki/Multisignature', 'multisignature'],\n",
       "   ['https://en.wikipedia.org/wiki/Byzantine_fault_tolerance#Practical_Byzantine_fault_tolerance',\n",
       "    'PBFT']]],\n",
       " ['p',\n",
       "  'Each blockchain network has various participants who play\\xa0these roles, among others:',\n",
       "  []],\n",
       " ['uli',\n",
       "  'Blockchain users.\\xa0Participants (typically business users) with permissions to join the blockchain network and conduct transactions with other network participants.',\n",
       "  []],\n",
       " ['uli',\n",
       "  'Regulators.\\xa0Blockchain users with special permissions to oversee the transactions happening within the network.',\n",
       "  []],\n",
       " ['uli',\n",
       "  'Blockchain network operators.\\xa0Individuals who have special permissions and authority to define, create, manage, and monitor the blockchain network.',\n",
       "  []],\n",
       " ['uli',\n",
       "  'Certificate authorities.\\xa0Individuals who issue and manage the different types of certificates required to run a permissioned blockchain.',\n",
       "  []],\n",
       " ['p',\n",
       "  'Hyperledger\\xa0is “an umbrella project of open source blockchains and related tools, started in December 2015 by the Linux Foundation and supported by industry players like IBM, Intel and SAP to support the collaborative development of blockchain-based distributed ledgers.”',\n",
       "  []],\n",
       " ['p',\n",
       "  'Hyperledger participants\\xa0believe that “only an Open Source, collaborative software development approach can ensure the transparency, longevity, interoperability and support required to bring blockchain technologies forward to mainstream commercial adoption.”',\n",
       "  []],\n",
       " ['p',\n",
       "  'The\\xa0objective of the Hyperledger project\\xa0“is to advance cross-industry collaboration by developing blockchains and distributed ledgers, with a particular focus on improving the performance and reliability of these systems (as compared to comparable cryptocurrency designs) so that they are capable of supporting global business transactions by major technological, financial and supply chain companies.”',\n",
       "  []],\n",
       " ['p',\n",
       "  'Blockchain is frequently claimed to be an “unhackable” technology. But 51% attacks allow threat actors to “gain control over more than half of a blockchain’s compute power and corrupt the integrity of the shared ledger. … While this particular attack is expensive and difficult, the fact that it was effective means that security professionals should treat blockchain as a useful technology—not a magical answer to all problems.”',\n",
       "  []],\n",
       " ['p',\n",
       "  'The 51% attack takes advantage of what is known as the 51% problem: “If a single party possesses 51% of a mining pool, it is possible to falsify an entry into the blockchain, allowing for double spending, and even to fork a new chain to the advantage of the mining pool.”',\n",
       "  []],\n",
       " ['p',\n",
       "  'The two main types of blockchain,\\xa0public and private, offer different levels of security. Public blockchains “use computers connected to the public internet to validate transactions and bundle them into blocks to add to the ledger. … Private blockchains, on the other hand, typically only permit known organizations to join.” Because any organization can join public blockchains, they might not be right for enterprises concerned about the confidentiality of the information moving through the network.',\n",
       "  []],\n",
       " ['p',\n",
       "  'Another difference between public and private blockchains regards participant identity. Public blockchains “are typically designed around the principle of anonymity. … A private blockchain consists of a permissioned network in which consensus can be achieved through a process called ‘selective endorsement,’ where known users verify the transactions. The advantage of this for businesses is that only participants with the appropriate access and permissions can maintain the transaction ledger. There are still a few issues with this method, including threats from insiders, but many of them can be solved with a highly secure infrastructure.”',\n",
       "  []],\n",
       " ['p',\n",
       "  'Blockchain technologies are growing at an unprecedented rate and powering new concepts for everything from shared storage to social networks. From a security perspective, we are breaking new ground. As developers create blockchain applications, they should give precedent to securing their blockchain applications and services. Activities such as performing\\xa0risk assessments, creating threat models, and doing code analysis, such as\\xa0static code analysis,\\xa0interactive application security testing, and\\xa0software composition analysis, should all be on a developer’s blockchain application roadmap. Building security in from the start is critical to ensuring a successful and secure blockchain application.',\n",
       "  [['https://www.synopsys.com/glossary/what-is-vulnerability-assessment.html',\n",
       "    'risk assessments'],\n",
       "   ['https://www.synopsys.com/software-integrity/security-testing/static-analysis-sast.html',\n",
       "    'static code analysis'],\n",
       "   ['https://www.synopsys.com/software-integrity/security-testing/interactive-application-security-testing.html',\n",
       "    'interactive application security testing'],\n",
       "   ['https://www.synopsys.com/software-integrity/security-testing/software-composition-analysis.html',\n",
       "    'software composition analysis']]],\n",
       " ['p', 'Build trust in your software', []],\n",
       " ['p', 'See why Synopsys is an AppSec Leader', []],\n",
       " ['p',\n",
       "  'Examine what business and technology leaders must do to achieve successful business transformation and take control of the risks that are inherent in software.',\n",
       "  []],\n",
       " ['p', 'Ready to get started?', []]]"
      ]
     },
     "execution_count": 5,
     "metadata": {},
     "output_type": "execute_result"
    }
   ],
   "source": [
    "paragraphs"
   ]
  },
  {
   "cell_type": "code",
   "execution_count": null,
   "metadata": {},
   "outputs": [],
   "source": [
    "# some of the rules stated below shouldnt be coded, as they take away flexibility and scrape insufficient information\n",
    "\n",
    "# empty headings\n",
    "# headings without paragraphs\n",
    "# headings with paragraphs connected to headinge without paragraphs\n",
    "# headings that aren't connected to the main topic at all\n",
    "\n",
    "# coinbase throws error\n",
    "\n",
    "# text has '\\n'\n",
    "\n",
    "# multiple h1 in the start\n",
    "# h1 at the end\n",
    "\n",
    "# paragraphs that have \\t or \\n only, same with headings\n",
    "\n",
    "# potential links to other articles in the headings\n"
   ]
  },
  {
   "cell_type": "code",
   "execution_count": 8,
   "metadata": {},
   "outputs": [],
   "source": [
    "a = '  \\n\\n\\n\\n    Blockchain resources\\n\\n\\n\\n\\n\\n    \\n\\n\\t\\n            '"
   ]
  },
  {
   "cell_type": "code",
   "execution_count": 43,
   "metadata": {},
   "outputs": [],
   "source": [
    "a = ''.join([a[i] for i in range(len(a)) if a[i:i+1]!='\\n'])\n",
    "a = ''.join([a[i] for i in range(len(a)) if a[i:i+1]!='\\t'])\n",
    "a = a.strip()"
   ]
  },
  {
   "cell_type": "code",
   "execution_count": 44,
   "metadata": {},
   "outputs": [
    {
     "data": {
      "text/plain": [
       "'Blockchain resources'"
      ]
     },
     "execution_count": 44,
     "metadata": {},
     "output_type": "execute_result"
    }
   ],
   "source": [
    "a"
   ]
  },
  {
   "cell_type": "code",
   "execution_count": 11,
   "metadata": {},
   "outputs": [
    {
     "data": {
      "text/plain": [
       "'      Blockchain resources                '"
      ]
     },
     "execution_count": 11,
     "metadata": {},
     "output_type": "execute_result"
    }
   ],
   "source": [
    "cleanspaces('      Blockchain resources                ')"
   ]
  },
  {
   "cell_type": "code",
   "execution_count": 12,
   "metadata": {},
   "outputs": [],
   "source": [
    "a = '      Blockchain resources                '"
   ]
  },
  {
   "cell_type": "code",
   "execution_count": 13,
   "metadata": {},
   "outputs": [],
   "source": [
    "a = a.split(' ')"
   ]
  },
  {
   "cell_type": "code",
   "execution_count": 14,
   "metadata": {},
   "outputs": [
    {
     "data": {
      "text/plain": [
       "['',\n",
       " '',\n",
       " '',\n",
       " '',\n",
       " '',\n",
       " '',\n",
       " 'Blockchain',\n",
       " 'resources',\n",
       " '',\n",
       " '',\n",
       " '',\n",
       " '',\n",
       " '',\n",
       " '',\n",
       " '',\n",
       " '',\n",
       " '',\n",
       " '',\n",
       " '',\n",
       " '',\n",
       " '',\n",
       " '',\n",
       " '',\n",
       " '']"
      ]
     },
     "execution_count": 14,
     "metadata": {},
     "output_type": "execute_result"
    }
   ],
   "source": [
    "a"
   ]
  },
  {
   "cell_type": "code",
   "execution_count": 2,
   "metadata": {},
   "outputs": [],
   "source": []
  },
  {
   "cell_type": "code",
   "execution_count": 5,
   "metadata": {},
   "outputs": [],
   "source": []
  },
  {
   "cell_type": "code",
   "execution_count": null,
   "metadata": {},
   "outputs": [
    {
     "name": "stdout",
     "output_type": "stream",
     "text": [
      "what is curve dao token blockchain 0 0 151\n",
      "\r",
      "                                                                               \r",
      "Searching Google\n"
     ]
    }
   ],
   "source": [
    "i=0\n",
    "for kwid in kwdata:\n",
    "    i+=1\n",
    "    if kwid == 0:\n",
    "        continue\n",
    "    q = f\"what is {kwdata[kwid]['name']} blockchain\"\n",
    "    engine = Google()\n",
    "    results = engine.search(q)\n",
    "    links = results.links()\n",
    "    for link in links:\n",
    "        urlscraped[link] = False\n",
    "    clear_output(wait=True)\n",
    "    print(q, len(links), len(urlscraped), i)"
   ]
  },
  {
   "cell_type": "code",
   "execution_count": 15,
   "metadata": {},
   "outputs": [
    {
     "data": {
      "text/plain": [
       "True"
      ]
     },
     "execution_count": 15,
     "metadata": {},
     "output_type": "execute_result"
    }
   ],
   "source": [
    "is_external('https://builtin.com', '/blockchain')"
   ]
  },
  {
   "cell_type": "code",
   "execution_count": 53,
   "metadata": {},
   "outputs": [],
   "source": [
    "url = '/terms/b/blockchain.asp'\n",
    "url = normalize_url(url)\n",
    "# hostandpath = get_host_and_path(url)\n",
    "validity = validate_url(url)\n",
    "crawlability = is_not_crawlable(url)\n",
    "navigability = is_navigation_page(url)"
   ]
  },
  {
   "cell_type": "code",
   "execution_count": 54,
   "metadata": {},
   "outputs": [
    {
     "data": {
      "text/plain": [
       "'/terms/b/blockchain.asp'"
      ]
     },
     "execution_count": 54,
     "metadata": {},
     "output_type": "execute_result"
    }
   ],
   "source": [
    "url"
   ]
  },
  {
   "cell_type": "code",
   "execution_count": 55,
   "metadata": {},
   "outputs": [
    {
     "data": {
      "text/plain": [
       "('https://www.investopedia.com', '/terms/b/blockchain.asp')"
      ]
     },
     "execution_count": 55,
     "metadata": {},
     "output_type": "execute_result"
    }
   ],
   "source": [
    "hostandpath"
   ]
  },
  {
   "cell_type": "code",
   "execution_count": 56,
   "metadata": {},
   "outputs": [
    {
     "data": {
      "text/plain": [
       "(False, None)"
      ]
     },
     "execution_count": 56,
     "metadata": {},
     "output_type": "execute_result"
    }
   ],
   "source": [
    "validity"
   ]
  },
  {
   "cell_type": "code",
   "execution_count": 50,
   "metadata": {},
   "outputs": [
    {
     "data": {
      "text/plain": [
       "False"
      ]
     },
     "execution_count": 50,
     "metadata": {},
     "output_type": "execute_result"
    }
   ],
   "source": [
    "crawlability"
   ]
  },
  {
   "cell_type": "code",
   "execution_count": 51,
   "metadata": {},
   "outputs": [
    {
     "data": {
      "text/plain": [
       "False"
      ]
     },
     "execution_count": 51,
     "metadata": {},
     "output_type": "execute_result"
    }
   ],
   "source": [
    "navigability"
   ]
  },
  {
   "cell_type": "code",
   "execution_count": 57,
   "metadata": {},
   "outputs": [
    {
     "data": {
      "text/plain": [
       "'https://www.investopedia.com/terms/b/blockchain.asp'"
      ]
     },
     "execution_count": 57,
     "metadata": {},
     "output_type": "execute_result"
    }
   ],
   "source": [
    "fix_relative_urls('https://www.investopedia.com', '/terms/b/blockchain.asp')"
   ]
  },
  {
   "cell_type": "code",
   "execution_count": 58,
   "metadata": {},
   "outputs": [],
   "source": [
    "def urlcheck(url, host):\n",
    "    url = normalize_url(url)\n",
    "    validity = validate_url(url)\n",
    "    notcrawlable = is_not_crawlable(url)\n",
    "    navigationpage = is_navigation_page(url)\n",
    "    if not notcrawlable:\n",
    "        if not navigationpage:\n",
    "            if validity[0]:\n",
    "                return url\n",
    "            else:\n",
    "                return urlcheck(fix_relative_urls(host, url), host)\n",
    "        else:\n",
    "            return None\n",
    "    else:\n",
    "        return None"
   ]
  },
  {
   "cell_type": "code",
   "execution_count": 60,
   "metadata": {},
   "outputs": [
    {
     "data": {
      "text/plain": [
       "'https://www.investopedia.com/terms/b/blockchain.asp'"
      ]
     },
     "execution_count": 60,
     "metadata": {},
     "output_type": "execute_result"
    }
   ],
   "source": [
    "urlcheck('https://www.investopedia.com/terms/b/blockchain.asp', 'https://www.investopedia.com')"
   ]
  },
  {
   "cell_type": "code",
   "execution_count": null,
   "metadata": {},
   "outputs": [],
   "source": []
  }
 ],
 "metadata": {
  "kernelspec": {
   "display_name": "Python 3",
   "language": "python",
   "name": "python3"
  },
  "language_info": {
   "codemirror_mode": {
    "name": "ipython",
    "version": 3
   },
   "file_extension": ".py",
   "mimetype": "text/x-python",
   "name": "python",
   "nbconvert_exporter": "python",
   "pygments_lexer": "ipython3",
   "version": "3.8.3"
  }
 },
 "nbformat": 4,
 "nbformat_minor": 4
}
