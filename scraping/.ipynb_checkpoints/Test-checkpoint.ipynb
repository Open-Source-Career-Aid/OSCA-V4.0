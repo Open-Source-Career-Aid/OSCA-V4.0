{
 "cells": [
  {
   "cell_type": "code",
   "execution_count": 1,
   "metadata": {},
   "outputs": [
    {
     "ename": "SyntaxError",
     "evalue": "invalid syntax (<ipython-input-1-32afd6c90ff5>, line 3)",
     "output_type": "error",
     "traceback": [
      "\u001b[0;36m  File \u001b[0;32m\"<ipython-input-1-32afd6c90ff5>\"\u001b[0;36m, line \u001b[0;32m3\u001b[0m\n\u001b[0;31m    from generalscraper import |*\u001b[0m\n\u001b[0m                               ^\u001b[0m\n\u001b[0;31mSyntaxError\u001b[0m\u001b[0;31m:\u001b[0m invalid syntax\n"
     ]
    }
   ],
   "source": [
    "import sys\n",
    "sys.path.insert(1, '/Users/chinmayshrivastava/Desktop/OSCA/V4.0/scraping/crawler')\n",
    "from generalscraper import *"
   ]
  },
  {
   "cell_type": "code",
   "execution_count": null,
   "metadata": {},
   "outputs": [],
   "source": [
    "keyword = 'blockchain'"
   ]
  },
  {
   "cell_type": "code",
   "execution_count": 3,
   "metadata": {},
   "outputs": [
    {
     "data": {
      "text/plain": [
       "{'https://builtin.com/blockchain',\n",
       " 'https://en.wikipedia.org/wiki/Blockchain',\n",
       " 'https://www.coinbase.com/learn/crypto-basics/what-is-a-blockchain',\n",
       " 'https://www.euromoney.com/learning/blockchain-explained/what-is-blockchain',\n",
       " 'https://www.forbes.com/advisor/investing/cryptocurrency/what-is-blockchain/',\n",
       " 'https://www.ibm.com/topics/what-is-blockchain',\n",
       " 'https://www.investopedia.com/terms/b/blockchain.asp',\n",
       " 'https://www.pwc.com/us/en/industries/financial-services/fintech/bitcoin-blockchain-cryptocurrency.html',\n",
       " 'https://www.simplilearn.com/tutorials/blockchain-tutorial/blockchain-technology',\n",
       " 'https://www.synopsys.com/glossary/what-is-blockchain.html'}"
      ]
     },
     "execution_count": 3,
     "metadata": {},
     "output_type": "execute_result"
    }
   ],
   "source": [
    "getgooglelinks(keyword)"
   ]
  },
  {
   "cell_type": "code",
   "execution_count": 11,
   "metadata": {},
   "outputs": [],
   "source": [
    "url = 'https://www.ibm.com/topics/what-is-blockchain'\n",
    "database, headings, paragraphs = articlescraper(url, dynamic=True)"
   ]
  },
  {
   "cell_type": "code",
   "execution_count": 12,
   "metadata": {},
   "outputs": [],
   "source": [
    "soup = getpage(url)"
   ]
  },
  {
   "cell_type": "code",
   "execution_count": 13,
   "metadata": {},
   "outputs": [
    {
     "data": {
      "text/plain": [
       "<h1 class=\"bx--leadspace__title\">\n",
       "                            \n",
       "\n",
       "\n",
       "    What is blockchain technology? \n",
       "\n",
       "\n",
       "\n",
       "\n",
       "\n",
       "    \n",
       "\n",
       "\n",
       "                        </h1>"
      ]
     },
     "execution_count": 13,
     "metadata": {},
     "output_type": "execute_result"
    }
   ],
   "source": [
    "soup.h1"
   ]
  },
  {
   "cell_type": "code",
   "execution_count": 14,
   "metadata": {
    "scrolled": false
   },
   "outputs": [
    {
     "data": {
      "text/plain": [
       "[['topic',\n",
       "  '\\n                            \\n\\n\\n    What is blockchain technology?\\xa0\\n\\n\\n\\n\\n\\n    \\n\\n\\n                        ',\n",
       "  1,\n",
       "  None,\n",
       "  [0, 1, 2, 3, 4, 5, 6, 7]],\n",
       " ['h2',\n",
       "  '\\n\\n  \\n\\n\\n\\n    Blockchain overview\\n\\n\\n\\n\\n\\n    \\n\\n\\n            ',\n",
       "  2,\n",
       "  10,\n",
       "  [8, 9]],\n",
       " ['h3',\n",
       "  '\\n                        \\n\\n\\n    Key elements of a blockchain\\n\\n\\n\\n\\n\\n    \\n\\n\\n                    ',\n",
       "  3,\n",
       "  6,\n",
       "  []],\n",
       " ['h4',\n",
       "  '\\n                    \\n\\n\\n    Distributed ledger technology\\n\\n\\n\\n\\n\\n    \\n\\n\\n                ',\n",
       "  None,\n",
       "  4,\n",
       "  [10]],\n",
       " ['h4',\n",
       "  '\\n                    \\n\\n\\n    Immutable records\\n\\n\\n\\n\\n\\n    \\n\\n\\n                ',\n",
       "  None,\n",
       "  5,\n",
       "  [11]],\n",
       " ['h4',\n",
       "  '\\n                    \\n\\n\\n    Smart contracts\\n\\n\\n\\n\\n\\n    \\n\\n\\n                ',\n",
       "  None,\n",
       "  None,\n",
       "  [12]],\n",
       " ['h3',\n",
       "  '\\n                        \\n\\n\\n    How blockchain works\\n\\n\\n\\n\\n\\n    \\n\\n\\n                    ',\n",
       "  7,\n",
       "  None,\n",
       "  []],\n",
       " ['h4',\n",
       "  '\\n                    \\n\\n\\n    As each transaction occurs, it is recorded as a “block” of data\\n\\n\\n\\n\\n\\n    \\n\\n\\n                ',\n",
       "  None,\n",
       "  8,\n",
       "  [13]],\n",
       " ['h4',\n",
       "  '\\n                    \\n\\n\\n    Each block is connected to the ones before and after it\\n\\n\\n\\n\\n\\n    \\n\\n\\n                ',\n",
       "  None,\n",
       "  9,\n",
       "  [14]],\n",
       " ['h4',\n",
       "  '\\n                    \\n\\n\\n    Transactions are blocked together in an irreversible chain: a blockchain\\n\\n\\n\\n\\n\\n    \\n\\n\\n                ',\n",
       "  None,\n",
       "  None,\n",
       "  [15]],\n",
       " ['h2',\n",
       "  '\\n\\n  \\n\\n\\n\\n    Benefits of blockchain\\n\\n\\n\\n\\n\\n    \\n\\n\\n            ',\n",
       "  11,\n",
       "  14,\n",
       "  [16]],\n",
       " ['h4',\n",
       "  '\\n                    \\n\\n\\n    Greater trust\\n\\n\\n\\n\\n\\n    \\n\\n\\n                ',\n",
       "  None,\n",
       "  12,\n",
       "  [17]],\n",
       " ['h4',\n",
       "  '\\n                    \\n\\n\\n    Greater security\\n\\n\\n\\n\\n\\n    \\n\\n\\n                ',\n",
       "  None,\n",
       "  13,\n",
       "  [18]],\n",
       " ['h4',\n",
       "  '\\n                    \\n\\n\\n    More efficiencies\\n\\n\\n\\n\\n\\n    \\n\\n\\n                ',\n",
       "  None,\n",
       "  None,\n",
       "  [19]],\n",
       " ['h2',\n",
       "  '\\n\\n  \\n\\n\\n\\n    Blockchain 101 in five minutes\\n\\n\\n\\n\\n\\n    \\n\\n\\n            ',\n",
       "  None,\n",
       "  15,\n",
       "  [20, 21, 22, 23]],\n",
       " ['h2',\n",
       "  '\\n\\n  \\n\\n\\n\\n    Types of blockchain networks\\n\\n\\n\\n\\n\\n    \\n\\n\\n            ',\n",
       "  16,\n",
       "  23,\n",
       "  []],\n",
       " ['h3',\n",
       "  '\\n            \\n\\n\\n    There are several ways to build a blockchain network. They can be public, private, permissioned or built by a consortium.\\n\\n\\n\\n\\n\\n    \\n\\n\\n        ',\n",
       "  17,\n",
       "  21,\n",
       "  []],\n",
       " ['h4',\n",
       "  '\\n            \\n\\n\\n    Public blockchain networks\\n\\n\\n\\n\\n\\n    \\n\\n\\n            ',\n",
       "  None,\n",
       "  18,\n",
       "  [24]],\n",
       " ['h4',\n",
       "  '\\n            \\n\\n\\n    Private blockchain networks\\n\\n\\n\\n\\n\\n    \\n\\n\\n            ',\n",
       "  None,\n",
       "  19,\n",
       "  [25]],\n",
       " ['h4',\n",
       "  '\\n            \\n\\n\\n    Permissioned blockchain networks\\n\\n\\n\\n\\n\\n    \\n\\n\\n            ',\n",
       "  None,\n",
       "  20,\n",
       "  [26]],\n",
       " ['h4',\n",
       "  '\\n            \\n\\n\\n    Consortium blockchains\\n\\n\\n\\n\\n\\n    \\n\\n\\n            ',\n",
       "  None,\n",
       "  None,\n",
       "  [27]],\n",
       " ['h3',\n",
       "  '\\n            \\n\\n\\n    Blockchain security\\n\\n\\n\\n\\n\\n    \\n\\n\\n        ',\n",
       "  22,\n",
       "  None,\n",
       "  []],\n",
       " ['h4',\n",
       "  '\\n            \\n\\n\\n    Risk management systems for blockchain networks\\n\\xa0\\n\\n\\n\\n\\n\\n    \\n\\n\\n            ',\n",
       "  None,\n",
       "  None,\n",
       "  [28]],\n",
       " ['h2',\n",
       "  '\\n\\n  \\n\\n\\n\\n    Blockchain use cases and applications\\n\\n\\n\\n\\n\\n    \\n\\n\\n            ',\n",
       "  None,\n",
       "  24,\n",
       "  [29, 30, 31, 32, 33, 34]],\n",
       " ['h2',\n",
       "  '\\n\\n  \\n\\n\\n\\n    Blockchain for industries\\n\\n\\n\\n\\n\\n    \\n\\n\\n            ',\n",
       "  None,\n",
       "  25,\n",
       "  [35, 36]],\n",
       " ['h2',\n",
       "  '\\n\\n  \\n\\n\\n\\n    Blockchain FAQ\\n\\n\\n\\n\\n\\n    \\n\\n\\n            ',\n",
       "  26,\n",
       "  30,\n",
       "  []],\n",
       " ['h3',\n",
       "  '\\n            \\n\\n\\n    What’s the difference between blockchain and Bitcoin?\\n\\n\\n\\n\\n\\n    \\n\\n\\n        ',\n",
       "  None,\n",
       "  27,\n",
       "  [37, 38]],\n",
       " ['h3',\n",
       "  '\\n            \\n\\n\\n    How are the IBM Blockchain Platform and Hyperledger related?\\n\\n\\n\\n\\n\\n    \\n\\n\\n        ',\n",
       "  None,\n",
       "  28,\n",
       "  [39, 40]],\n",
       " ['h3',\n",
       "  '\\n            \\n\\n\\n    Can I deploy on any cloud I want?\\n\\n\\n\\n\\n\\n    \\n\\n\\n        ',\n",
       "  None,\n",
       "  29,\n",
       "  [41]],\n",
       " ['h3',\n",
       "  '\\n            \\n\\n\\n    I need more detailed information. Where is it?\\n\\n\\n\\n\\n\\n    \\n\\n\\n        ',\n",
       "  None,\n",
       "  None,\n",
       "  [42, 43, 44, 45]],\n",
       " ['h2',\n",
       "  '\\n\\n  \\n\\n\\n\\n    Blockchain solutions\\n\\n\\n\\n\\n\\n    \\n\\n\\n            ',\n",
       "  31,\n",
       "  34,\n",
       "  []],\n",
       " ['h3',\n",
       "  '\\n                    \\n\\n\\n    IBM Blockchain solutions\\n\\n\\n\\n\\n\\n    \\n\\n\\n                ',\n",
       "  None,\n",
       "  32,\n",
       "  [46, 47]],\n",
       " ['h3',\n",
       "  '\\n                    \\n\\n\\n    Blockchain consulting\\n\\n\\n\\n\\n\\n    \\n\\n\\n                ',\n",
       "  None,\n",
       "  33,\n",
       "  [48, 49]],\n",
       " ['h3',\n",
       "  '\\n                    \\n\\n\\n    All IBM Blockchain solutions\\n\\n\\n\\n\\n\\n    \\n\\n\\n                ',\n",
       "  None,\n",
       "  None,\n",
       "  [50, 51]],\n",
       " ['h2',\n",
       "  '\\n\\n  \\n\\n\\n\\n    Blockchain resources\\n\\n\\n\\n\\n\\n    \\n\\n\\n            ',\n",
       "  None,\n",
       "  35,\n",
       "  [52, 53, 54, 55, 56]],\n",
       " ['h2', '\\n\\nNext Steps\\n', 36, None, [57, 58, 59, 60]],\n",
       " ['h3', 'Hello! How can we help you?', None, None, [61, 62]]]"
      ]
     },
     "execution_count": 14,
     "metadata": {},
     "output_type": "execute_result"
    }
   ],
   "source": [
    "headings"
   ]
  },
  {
   "cell_type": "code",
   "execution_count": null,
   "metadata": {},
   "outputs": [],
   "source": [
    "# some of the rules stated below shouldnt be coded, as they take away flexibility and scrape insufficient information\n",
    "\n",
    "# empty headings\n",
    "# headings without paragraphs\n",
    "# headings with paragraphs connected to headinge without paragraphs\n",
    "# headings that aren't connected to the main topic at all\n",
    "\n",
    "# coinbase throws error\n",
    "\n",
    "# text has '\\n'\n",
    "\n",
    "# multiple h1 in the start\n",
    "# h1 at the end\n",
    "\n",
    "# paragraphs that have \\t or \\n only, same with headings\n",
    "\n",
    "# potential links to other articles in the headings\n"
   ]
  },
  {
   "cell_type": "code",
   "execution_count": 35,
   "metadata": {},
   "outputs": [],
   "source": [
    "a = '  \\n\\n\\n\\n    Blockchain resources\\n\\n\\n\\n\\n\\n    \\n\\n\\t\\n            '"
   ]
  },
  {
   "cell_type": "code",
   "execution_count": 43,
   "metadata": {},
   "outputs": [],
   "source": [
    "a = ''.join([a[i] for i in range(len(a)) if a[i:i+1]!='\\n'])\n",
    "a = ''.join([a[i] for i in range(len(a)) if a[i:i+1]!='\\t'])\n",
    "a = a.strip()"
   ]
  },
  {
   "cell_type": "code",
   "execution_count": 44,
   "metadata": {},
   "outputs": [
    {
     "data": {
      "text/plain": [
       "'Blockchain resources'"
      ]
     },
     "execution_count": 44,
     "metadata": {},
     "output_type": "execute_result"
    }
   ],
   "source": [
    "a"
   ]
  },
  {
   "cell_type": "code",
   "execution_count": null,
   "metadata": {},
   "outputs": [],
   "source": []
  }
 ],
 "metadata": {
  "kernelspec": {
   "display_name": "Python 3",
   "language": "python",
   "name": "python3"
  }
 },
 "nbformat": 4,
 "nbformat_minor": 4
}
