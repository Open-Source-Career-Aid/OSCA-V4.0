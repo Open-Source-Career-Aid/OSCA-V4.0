{
 "cells": [
  {
   "cell_type": "code",
   "execution_count": 1,
   "metadata": {},
   "outputs": [],
   "source": [
    "import sys\n",
    "sys.path.insert(1, '/Users/chinmayshrivastava/Desktop/OSCA/V4.0/scraping/crawler')\n",
    "from generalscraper import *"
   ]
  },
  {
   "cell_type": "code",
   "execution_count": 9,
   "metadata": {},
   "outputs": [],
   "source": [
    "paragraphs = pd.DataFrame(columns=['databaseid', 'tag', 'text', 'links'])\n",
    "headings = pd.DataFrame(columns=['databaseid', 'tag', 'headingtext', 'subheading', 'nextheading', 'paragraphs'])\n",
    "database = pd.DataFrame(columns=['topicheadingID', 'url', 'totalsubheadings', 'totalparagraphs'])"
   ]
  },
  {
   "cell_type": "code",
   "execution_count": 10,
   "metadata": {},
   "outputs": [],
   "source": [
    "kwdata = pd.read_pickle('synonymsdata.pickle')\n",
    "urlscraped = {}\n",
    "urlstoscrape = []\n",
    "kwanalyzed = {}"
   ]
  },
  {
   "cell_type": "code",
   "execution_count": 11,
   "metadata": {},
   "outputs": [
    {
     "name": "stdout",
     "output_type": "stream",
     "text": [
      "document added successfully!\n"
     ]
    }
   ],
   "source": [
    "i=0\n",
    "howmanydocuments = 0\n",
    "for kwid in kwdata:\n",
    "    i+=1\n",
    "    if kwid == 0:\n",
    "        continue\n",
    "    if kwdata[kwid]['name'] in kwanalyzed:\n",
    "        continue\n",
    "    \n",
    "    print('Analysing:', kwdata[kwid]['name'])\n",
    "    q = f\"what is {kwdata[kwid]['name']} blockchain\"\n",
    "    engine = Google()\n",
    "    results = engine.search(q)\n",
    "    links = results.links()\n",
    "    \n",
    "    clear_output(wait=True)\n",
    "    \n",
    "    if len(links)<10:\n",
    "        break\n",
    "    \n",
    "    kwanalyzed[kwdata[kwid]['name']] = len(links)\n",
    "    \n",
    "    i = 0\n",
    "    \n",
    "    for url in links:\n",
    "        \n",
    "        if i==5:\n",
    "            break\n",
    "        \n",
    "        i+=1\n",
    "        print((i*100)/len(links))\n",
    "        \n",
    "        host = get_host_and_path(url)[0]\n",
    "        url = urlcheck(url, host)\n",
    "        print('scraping', url)\n",
    "        \n",
    "        if url in urlscraped:\n",
    "            continue\n",
    "        try:\n",
    "            document_, headings_, paragraphs_ = articlescraper(url, len(database.index), dynamic=True)\n",
    "        except:\n",
    "            urlscraped[url] = False\n",
    "        \n",
    "        if adddocument(headings_, paragraphs_):\n",
    "            # append to the database\n",
    "            database.loc[len(database.index)] = document_\n",
    "            for element in headings_:\n",
    "                headings.loc[len(headings.index)] = element\n",
    "            for element in paragraphs_:\n",
    "                paragraphs.loc[len(paragraphs.index)] = element\n",
    "            howmanydocuments += 1\n",
    "            print('document added successfully!')\n",
    "            urlscraped[url] = True\n",
    "        else:\n",
    "            print('document was rejected!')\n",
    "            urlscraped[url] = False\n",
    "            continue\n",
    "        \n",
    "        for element in paragraphs_:\n",
    "            if len(element[3])!=0:\n",
    "                for subelement in element[3]:\n",
    "#                     print(subelement)\n",
    "                    urlstoscrape.append(subelement[0])\n",
    "#                     clear_output(wait=True)\n",
    "\n",
    "    clear_output(wait=True)\n",
    "    \n",
    "    if howmanydocuments==5000:\n",
    "        break\n",
    "#     break\n",
    "#     print(q, len(links), len(urlscraped), i)"
   ]
  },
  {
   "cell_type": "code",
   "execution_count": null,
   "metadata": {},
   "outputs": [],
   "source": []
  }
 ],
 "metadata": {
  "kernelspec": {
   "display_name": "Python 3",
   "language": "python",
   "name": "python3"
  },
  "language_info": {
   "codemirror_mode": {
    "name": "ipython",
    "version": 3
   },
   "file_extension": ".py",
   "mimetype": "text/x-python",
   "name": "python",
   "nbconvert_exporter": "python",
   "pygments_lexer": "ipython3",
   "version": "3.8.3"
  }
 },
 "nbformat": 4,
 "nbformat_minor": 4
}
