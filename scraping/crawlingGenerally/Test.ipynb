{
 "cells": [
  {
   "cell_type": "code",
   "execution_count": 11,
   "metadata": {},
   "outputs": [],
   "source": [
    "import sys\n",
    "sys.path.insert(1, '/Users/chinmayshrivastava/Desktop/OSCA/V4.0/scraping/crawler')\n",
    "from generalscraper import *"
   ]
  },
  {
   "cell_type": "code",
   "execution_count": 12,
   "metadata": {},
   "outputs": [],
   "source": [
    "paragraphs = pd.DataFrame(columns=['databaseid', 'tag', 'text', 'links'])\n",
    "headings = pd.DataFrame(columns=['databaseid', 'tag', 'headingtext', 'subheading', 'nextheading', 'paragraphs'])\n",
    "database = pd.DataFrame(columns=['topicheadingID', 'url', 'totalsubheadings', 'totalparagraphs'])"
   ]
  },
  {
   "cell_type": "code",
   "execution_count": 13,
   "metadata": {},
   "outputs": [],
   "source": [
    "kwdata = pd.read_pickle('synonymsdata.pickle')\n",
    "urlscraped = {}\n",
    "urlstoscrape = []\n",
    "kwanalyzed = {}"
   ]
  },
  {
   "cell_type": "code",
   "execution_count": 19,
   "metadata": {},
   "outputs": [
    {
     "name": "stdout",
     "output_type": "stream",
     "text": [
      "2289 have been successfully scraped!\n"
     ]
    }
   ],
   "source": [
    "# i=0\n",
    "kws_ = 0\n",
    "howmanydocuments = len(database.index)\n",
    "for kwid in kwdata:\n",
    "#     i+=1\n",
    "    if kwid == 0:\n",
    "        continue\n",
    "    if kwdata[kwid]['name'] in kwanalyzed:\n",
    "        continue\n",
    "    if kws_==1:\n",
    "        break\n",
    "    kws_ += 1\n",
    "    \n",
    "    print('Analysing:', kwdata[kwid]['name'])\n",
    "    q = f\"what is {kwdata[kwid]['name']} blockchain\"\n",
    "    engine = Google()\n",
    "    results = engine.search(q)\n",
    "    links = results.links()\n",
    "    \n",
    "    clear_output(wait=True)\n",
    "    \n",
    "    if len(links)<10:\n",
    "        time.sleep(120)\n",
    "        continue\n",
    "    \n",
    "    kwanalyzed[kwdata[kwid]['name']] = len(links)\n",
    "    \n",
    "    i = 0\n",
    "    \n",
    "    for url in links:\n",
    "        \n",
    "        i+=1\n",
    "        print((i*100)/len(links))\n",
    "        \n",
    "        host = get_host_and_path(url)[0]\n",
    "        try:\n",
    "            url = urlcheck(url, host)\n",
    "        except:\n",
    "            continue\n",
    "        print('scraping', url)\n",
    "        \n",
    "        if url in urlscraped:\n",
    "            continue\n",
    "        try:\n",
    "            if url[-3:] == 'pdf':\n",
    "                urlscraped[url] = False\n",
    "                continue\n",
    "            document_, headings_, paragraphs_ = articlescraper(url, len(database.index), dynamic=True, timetofetch=0.5)\n",
    "        except:\n",
    "            urlscraped[url] = False\n",
    "            continue\n",
    "        \n",
    "        if adddocument(headings_, paragraphs_):\n",
    "            # append to the database\n",
    "            database.loc[len(database.index)] = document_\n",
    "            for element in headings_:\n",
    "                headings.loc[len(headings.index)] = element\n",
    "            for element in paragraphs_:\n",
    "                paragraphs.loc[len(paragraphs.index)] = element\n",
    "            howmanydocuments += 1\n",
    "            print('document added successfully!')\n",
    "            urlscraped[url] = True\n",
    "        else:\n",
    "            print('document was rejected!')\n",
    "            urlscraped[url] = False\n",
    "            continue\n",
    "        \n",
    "        for element in paragraphs_:\n",
    "            if len(element[3])!=0:\n",
    "                for subelement in element[3]:\n",
    "#                     print(subelement)\n",
    "                    if subelement[0] not in urlscraped:\n",
    "                        urlstoscrape.append(subelement[0])\n",
    "#                     clear_output(wait=True)\n",
    "\n",
    "    clear_output(wait=True)\n",
    "    \n",
    "    print(howmanydocuments, \"have been successfully scraped!\")\n",
    "    if howmanydocuments%10000==0:\n",
    "        integer = howmanydocuments/10000\n",
    "        with open(f'generaldatabase{integer}.pickle', 'wb') as file:\n",
    "            pickle.dump(database, file)\n",
    "        with open(f'generalheadings{integer}.pickle', 'wb') as file:\n",
    "            pickle.dump(headings, file)\n",
    "        with open(f'generalparagraphs{integer}.pickle', 'wb') as file:\n",
    "            pickle.dump(paragraphs, file)\n",
    "        paragraphs = pd.DataFrame(columns=['databaseid', 'tag', 'text', 'links'])\n",
    "        headings = pd.DataFrame(columns=['databaseid', 'tag', 'headingtext', 'subheading', 'nextheading', 'paragraphs'])\n",
    "        database = pd.DataFrame(columns=['topicheadingID', 'url', 'totalsubheadings', 'totalparagraphs'])\n",
    "#     break\n",
    "#     print(q, len(links), len(urlscraped), i)"
   ]
  },
  {
   "cell_type": "code",
   "execution_count": 20,
   "metadata": {},
   "outputs": [
    {
     "data": {
      "text/plain": [
       "[]"
      ]
     },
     "execution_count": 20,
     "metadata": {},
     "output_type": "execute_result"
    }
   ],
   "source": [
    "urlstoscrape"
   ]
  },
  {
   "cell_type": "code",
   "execution_count": 26,
   "metadata": {},
   "outputs": [
    {
     "data": {
      "text/html": [
       "<div>\n",
       "<style scoped>\n",
       "    .dataframe tbody tr th:only-of-type {\n",
       "        vertical-align: middle;\n",
       "    }\n",
       "\n",
       "    .dataframe tbody tr th {\n",
       "        vertical-align: top;\n",
       "    }\n",
       "\n",
       "    .dataframe thead th {\n",
       "        text-align: right;\n",
       "    }\n",
       "</style>\n",
       "<table border=\"1\" class=\"dataframe\">\n",
       "  <thead>\n",
       "    <tr style=\"text-align: right;\">\n",
       "      <th></th>\n",
       "      <th>databaseid</th>\n",
       "      <th>tag</th>\n",
       "      <th>text</th>\n",
       "      <th>links</th>\n",
       "    </tr>\n",
       "  </thead>\n",
       "  <tbody>\n",
       "    <tr>\n",
       "      <th>0</th>\n",
       "      <td>0</td>\n",
       "      <td>p</td>\n",
       "      <td>We bring you the best in blockchain developmen...</td>\n",
       "      <td>[]</td>\n",
       "    </tr>\n",
       "    <tr>\n",
       "      <th>1</th>\n",
       "      <td>0</td>\n",
       "      <td>p</td>\n",
       "      <td>At 10Clouds, we have more than 12 years of exp...</td>\n",
       "      <td>[]</td>\n",
       "    </tr>\n",
       "    <tr>\n",
       "      <th>2</th>\n",
       "      <td>0</td>\n",
       "      <td>p</td>\n",
       "      <td>We're a Blockchain development company with ov...</td>\n",
       "      <td>[]</td>\n",
       "    </tr>\n",
       "    <tr>\n",
       "      <th>3</th>\n",
       "      <td>0</td>\n",
       "      <td>p</td>\n",
       "      <td>Our team has worked with a vast range of block...</td>\n",
       "      <td>[]</td>\n",
       "    </tr>\n",
       "    <tr>\n",
       "      <th>4</th>\n",
       "      <td>0</td>\n",
       "      <td>p</td>\n",
       "      <td>Need Blockchain developers quickly? We can hel...</td>\n",
       "      <td>[]</td>\n",
       "    </tr>\n",
       "    <tr>\n",
       "      <th>...</th>\n",
       "      <td>...</td>\n",
       "      <td>...</td>\n",
       "      <td>...</td>\n",
       "      <td>...</td>\n",
       "    </tr>\n",
       "    <tr>\n",
       "      <th>48017</th>\n",
       "      <td>2287</td>\n",
       "      <td>p</td>\n",
       "      <td>Using automated trading systems comes with dra...</td>\n",
       "      <td>[]</td>\n",
       "    </tr>\n",
       "    <tr>\n",
       "      <th>48018</th>\n",
       "      <td>2287</td>\n",
       "      <td>p</td>\n",
       "      <td>Advance your career in investment banking, pri...</td>\n",
       "      <td>[]</td>\n",
       "    </tr>\n",
       "    <tr>\n",
       "      <th>48019</th>\n",
       "      <td>2287</td>\n",
       "      <td>p</td>\n",
       "      <td>to take your career to the next level! Learn s...</td>\n",
       "      <td>[]</td>\n",
       "    </tr>\n",
       "    <tr>\n",
       "      <th>48020</th>\n",
       "      <td>2287</td>\n",
       "      <td>uli</td>\n",
       "      <td>Share this article</td>\n",
       "      <td>[]</td>\n",
       "    </tr>\n",
       "    <tr>\n",
       "      <th>48021</th>\n",
       "      <td>2288</td>\n",
       "      <td>p</td>\n",
       "      <td>Rent and save from the world's largest eBookst...</td>\n",
       "      <td>[]</td>\n",
       "    </tr>\n",
       "  </tbody>\n",
       "</table>\n",
       "<p>48022 rows × 4 columns</p>\n",
       "</div>"
      ],
      "text/plain": [
       "      databaseid  tag                                               text links\n",
       "0              0    p  We bring you the best in blockchain developmen...    []\n",
       "1              0    p  At 10Clouds, we have more than 12 years of exp...    []\n",
       "2              0    p  We're a Blockchain development company with ov...    []\n",
       "3              0    p  Our team has worked with a vast range of block...    []\n",
       "4              0    p  Need Blockchain developers quickly? We can hel...    []\n",
       "...          ...  ...                                                ...   ...\n",
       "48017       2287    p  Using automated trading systems comes with dra...    []\n",
       "48018       2287    p  Advance your career in investment banking, pri...    []\n",
       "48019       2287    p  to take your career to the next level! Learn s...    []\n",
       "48020       2287  uli                                 Share this article    []\n",
       "48021       2288    p  Rent and save from the world's largest eBookst...    []\n",
       "\n",
       "[48022 rows x 4 columns]"
      ]
     },
     "execution_count": 26,
     "metadata": {},
     "output_type": "execute_result"
    }
   ],
   "source": [
    "paragraphs"
   ]
  },
  {
   "cell_type": "code",
   "execution_count": 13,
   "metadata": {},
   "outputs": [
    {
     "data": {
      "text/plain": [
       "True"
      ]
     },
     "execution_count": 13,
     "metadata": {},
     "output_type": "execute_result"
    }
   ],
   "source": [
    "isEnglish(\"Port3 Network We're Hiring\")"
   ]
  },
  {
   "cell_type": "code",
   "execution_count": 5,
   "metadata": {},
   "outputs": [
    {
     "data": {
      "text/plain": [
       "{'10clouds': 64}"
      ]
     },
     "execution_count": 5,
     "metadata": {},
     "output_type": "execute_result"
    }
   ],
   "source": [
    "kwanalyzed"
   ]
  },
  {
   "cell_type": "code",
   "execution_count": null,
   "metadata": {},
   "outputs": [],
   "source": []
  }
 ],
 "metadata": {
  "kernelspec": {
   "display_name": "Python 3",
   "language": "python",
   "name": "python3"
  },
  "language_info": {
   "codemirror_mode": {
    "name": "ipython",
    "version": 3
   },
   "file_extension": ".py",
   "mimetype": "text/x-python",
   "name": "python",
   "nbconvert_exporter": "python",
   "pygments_lexer": "ipython3",
   "version": "3.8.3"
  }
 },
 "nbformat": 4,
 "nbformat_minor": 4
}
