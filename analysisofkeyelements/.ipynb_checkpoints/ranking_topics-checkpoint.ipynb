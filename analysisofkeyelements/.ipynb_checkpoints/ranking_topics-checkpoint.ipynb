{
 "cells": [
  {
   "cell_type": "code",
   "execution_count": 18,
   "metadata": {},
   "outputs": [],
   "source": [
    "import pandas as pd\n",
    "import pickle\n",
    "import numpy as np\n",
    "from IPython.display import clear_output"
   ]
  },
  {
   "cell_type": "code",
   "execution_count": 32,
   "metadata": {},
   "outputs": [],
   "source": [
    "database = pd.read_pickle('/Users/chinmayshrivastava/Desktop/OSCA/V4.0/scraping/databasefromhnandbc101.pickle')\n",
    "headings = pd.read_pickle('/Users/chinmayshrivastava/Desktop/OSCA/V4.0/scraping/headingsfromhnandbc101.pickle')\n",
    "paragraphs = pd.read_pickle('/Users/chinmayshrivastava/Desktop/OSCA/V4.0/scraping/paragraphsfromhnandbc101.pickle')\n",
    "kwid = pd.read_pickle('kwid.pickle')\n",
    "kwdata = pd.read_pickle('synonymsdata.pickle')\n",
    "matrix = pd.read_pickle('largematrix.pickle')"
   ]
  },
  {
   "cell_type": "code",
   "execution_count": 33,
   "metadata": {},
   "outputs": [],
   "source": [
    "matrix = matrix/sum(sum(matrix))"
   ]
  },
  {
   "cell_type": "code",
   "execution_count": 41,
   "metadata": {},
   "outputs": [],
   "source": [
    "def out1(a):\n",
    "    return a[1]\n",
    "totalsum = sum([kwdata[element]['total'] for element in kwdata])\n",
    "p = sorted([[element, kwdata[element]['total']/totalsum] for element in kwdata], key=out1, reverse=True)"
   ]
  },
  {
   "cell_type": "code",
   "execution_count": 43,
   "metadata": {},
   "outputs": [],
   "source": [
    "with open('p.pickle', 'wb') as file:\n",
    "    pickle.dump(p, file)"
   ]
  }
 ],
 "metadata": {
  "kernelspec": {
   "display_name": "Python 3",
   "language": "python",
   "name": "python3"
  },
  "language_info": {
   "codemirror_mode": {
    "name": "ipython",
    "version": 3
   },
   "file_extension": ".py",
   "mimetype": "text/x-python",
   "name": "python",
   "nbconvert_exporter": "python",
   "pygments_lexer": "ipython3",
   "version": "3.8.3"
  }
 },
 "nbformat": 4,
 "nbformat_minor": 4
}
