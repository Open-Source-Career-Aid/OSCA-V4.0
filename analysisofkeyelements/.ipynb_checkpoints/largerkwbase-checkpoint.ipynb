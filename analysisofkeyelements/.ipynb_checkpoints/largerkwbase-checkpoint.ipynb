{
 "cells": [
  {
   "cell_type": "code",
   "execution_count": 1,
   "metadata": {},
   "outputs": [],
   "source": [
    "import pandas as pd\n",
    "import numpy as np\n",
    "import pickle\n",
    "from nltk import everygrams\n",
    "from sklearn.feature_extraction.text import CountVectorizer\n",
    "from IPython.display import clear_output\n",
    "import seaborn as sns\n",
    "import matplotlib.pylab as plt\n",
    "stopwords = pd.read_pickle('/Users/chinmayshrivastava/Desktop/OSCA/V4.0/stopwords.pickle')"
   ]
  },
  {
   "cell_type": "code",
   "execution_count": 2,
   "metadata": {},
   "outputs": [],
   "source": [
    "database = pd.read_pickle('/Users/chinmayshrivastava/Desktop/OSCA/V4.0/scraping/databasefromhnandbc101.pickle')\n",
    "headings = pd.read_pickle('/Users/chinmayshrivastava/Desktop/OSCA/V4.0/scraping/headingsfromhnandbc101.pickle')\n",
    "paragraphs = pd.read_pickle('/Users/chinmayshrivastava/Desktop/OSCA/V4.0/scraping/paragraphsfromhnandbc101.pickle')\n",
    "kws = pd.read_csv('/Users/chinmayshrivastava/Desktop/OSCA/V4.0/vocabulary/vocabulary.txt', names=['KW'], delimiter=',')"
   ]
  },
  {
   "cell_type": "code",
   "execution_count": 4,
   "metadata": {},
   "outputs": [],
   "source": [
    "kwid_ = 0"
   ]
  },
  {
   "cell_type": "code",
   "execution_count": 5,
   "metadata": {},
   "outputs": [],
   "source": [
    "kwid = {}\n",
    "for kw in kws['KW']:\n",
    "    kwid[kw] = kwid_\n",
    "    kwid_+=1"
   ]
  },
  {
   "cell_type": "code",
   "execution_count": 6,
   "metadata": {
    "collapsed": true
   },
   "outputs": [
    {
     "data": {
      "text/plain": [
       "{'blockchain': 0,\n",
       " 'cryptocurrency': 1,\n",
       " 'bitcoin': 2,\n",
       " 'ethereum': 3,\n",
       " 'nfts': 4,\n",
       " 'smart contracts': 5,\n",
       " 'consensus': 6,\n",
       " 'applications': 7,\n",
       " 'dao': 8,\n",
       " 'defi': 9,\n",
       " 'regulations': 10,\n",
       " 'ico': 11,\n",
       " 'double spending problem': 12,\n",
       " 'white paper': 13,\n",
       " 'bitcoin mining': 14,\n",
       " 'mining': 15,\n",
       " 'merkle tree': 16,\n",
       " 'hash tree': 17,\n",
       " 'halving': 18,\n",
       " 'keys and wallets': 19,\n",
       " 'keys': 20,\n",
       " 'wallets': 21,\n",
       " 'limitations': 22,\n",
       " 'ether': 23,\n",
       " 'decentralised applications': 24,\n",
       " 'dapps': 25,\n",
       " 'zero knowledge proofs': 26,\n",
       " 'forking': 27,\n",
       " 'polygon': 28,\n",
       " 'web3': 29,\n",
       " 'stable coin': 30,\n",
       " 'usdc': 31,\n",
       " 'delegated proof of stake': 32,\n",
       " 'proof of stake': 33,\n",
       " 'proof of work': 34,\n",
       " 'metaverse': 35,\n",
       " 'fragmentation': 36,\n",
       " 'sharding': 37,\n",
       " 'distributed ledger technology': 38,\n",
       " 'apecoin': 39,\n",
       " 'crypto phishing attacks': 40,\n",
       " 'crypto shilling': 41,\n",
       " 'erc 1155': 42,\n",
       " 'erc 721': 43,\n",
       " 'fractional nfts': 44,\n",
       " 'pfp nfts': 45,\n",
       " 'nonce': 46,\n",
       " 'segregated witness': 47,\n",
       " 'multisignature wallets': 48,\n",
       " 'hardware wallet': 49,\n",
       " 'health 3.0': 50,\n",
       " 'centralized exchange': 51,\n",
       " 'decentralized exchange': 52,\n",
       " 'usdt': 53,\n",
       " 'tether': 54,\n",
       " 'dai': 55,\n",
       " 'cardano': 56,\n",
       " 'defi insurance': 57,\n",
       " 'etherscan': 58,\n",
       " 'rarible': 59,\n",
       " 'enjin': 60,\n",
       " 'cake defi': 61,\n",
       " 'ethereum 2.0': 62,\n",
       " 'layer 1': 63,\n",
       " 'layer 2': 64,\n",
       " 'binance smart chain': 65,\n",
       " 'zksnarks': 66,\n",
       " 'zkstarks': 67,\n",
       " 'chainlink': 68,\n",
       " 'axie infinity': 69,\n",
       " 'gamefi': 70,\n",
       " 'makerdao': 71,\n",
       " 'metafi': 72,\n",
       " 'tokens': 73,\n",
       " 'internet of things': 74,\n",
       " 'solana': 75,\n",
       " 'trust wallet': 76,\n",
       " 'ripple': 77,\n",
       " 'liquidity mining': 78,\n",
       " 'tezos': 79,\n",
       " 'custodial wallets': 80,\n",
       " 'non custodial wallets': 81,\n",
       " 'play to earn': 82,\n",
       " 'yield farming': 83,\n",
       " 'uniswap': 84,\n",
       " 'metamask': 85,\n",
       " 'crypto lending': 86,\n",
       " 'byzantine generals problem': 87,\n",
       " 'staking': 88,\n",
       " 'paper wallet': 89,\n",
       " 'software wallet': 90,\n",
       " 'flash loans': 91,\n",
       " 'hot wallet': 92,\n",
       " 'cold wallet': 93,\n",
       " 'algorithmic stablecoins': 94,\n",
       " 'hyperledger fabric': 95,\n",
       " 'tokenization': 96,\n",
       " 'smart contract audit': 97,\n",
       " 'r3 corda': 98,\n",
       " 'ricardian contract': 99}"
      ]
     },
     "execution_count": 6,
     "metadata": {},
     "output_type": "execute_result"
    }
   ],
   "source": [
    "kwid"
   ]
  },
  {
   "cell_type": "code",
   "execution_count": 7,
   "metadata": {},
   "outputs": [],
   "source": [
    "matrix = np.zeros((len(kws), len(kws)))"
   ]
  },
  {
   "cell_type": "code",
   "execution_count": 8,
   "metadata": {},
   "outputs": [
    {
     "data": {
      "text/plain": [
       "(100, 100)"
      ]
     },
     "execution_count": 8,
     "metadata": {},
     "output_type": "execute_result"
    }
   ],
   "source": [
    "matrix.shape"
   ]
  },
  {
   "cell_type": "code",
   "execution_count": 9,
   "metadata": {
    "scrolled": true
   },
   "outputs": [],
   "source": [
    "hvector = CountVectorizer(vocabulary=kwid, ngram_range=(1, 4))\n",
    "pvector = CountVectorizer(vocabulary=kwid, ngram_range=(1, 4))\n",
    "h = hvector.fit_transform(headings['headingtext'])\n",
    "p = pvector.fit_transform(paragraphs['text'])\n",
    "hcount = h.toarray()\n",
    "pcount = p.toarray()"
   ]
  },
  {
   "cell_type": "code",
   "execution_count": 11,
   "metadata": {},
   "outputs": [],
   "source": [
    "for hid in headings.index:\n",
    "    for kw1 in kwid:\n",
    "        if hcount[hid, kwid[kw1]]!=0:\n",
    "            sum_ = 0\n",
    "            for pgid in headings.iloc[hid]['paragraphs']:\n",
    "                sum_ += sum(pcount[pgid, :])\n",
    "            for pgid in headings.iloc[hid]['paragraphs']:\n",
    "                for kw2 in kwid:\n",
    "                    if pcount[pgid, kwid[kw2]]!=0:\n",
    "                        matrix[kwid[kw1], kwid[kw2]] += pcount[pgid, kwid[kw2]]/sum_"
   ]
  },
  {
   "cell_type": "code",
   "execution_count": 12,
   "metadata": {},
   "outputs": [
    {
     "data": {
      "text/plain": [
       "array([[3.61888697e+03, 1.03006858e+02, 1.69264896e+02, ...,\n",
       "        0.00000000e+00, 3.53902459e+00, 0.00000000e+00],\n",
       "       [7.32357497e+01, 1.84208829e+02, 4.49482630e+01, ...,\n",
       "        0.00000000e+00, 0.00000000e+00, 0.00000000e+00],\n",
       "       [8.48439469e+01, 3.64513947e+01, 3.96267048e+02, ...,\n",
       "        0.00000000e+00, 0.00000000e+00, 0.00000000e+00],\n",
       "       ...,\n",
       "       [8.03921569e-01, 0.00000000e+00, 0.00000000e+00, ...,\n",
       "        1.11764706e+00, 0.00000000e+00, 0.00000000e+00],\n",
       "       [7.95454545e+00, 0.00000000e+00, 0.00000000e+00, ...,\n",
       "        0.00000000e+00, 5.31010101e+00, 0.00000000e+00],\n",
       "       [2.00000000e-01, 0.00000000e+00, 0.00000000e+00, ...,\n",
       "        0.00000000e+00, 0.00000000e+00, 1.00000000e-01]])"
      ]
     },
     "execution_count": 12,
     "metadata": {},
     "output_type": "execute_result"
    }
   ],
   "source": [
    "matrix"
   ]
  },
  {
   "cell_type": "code",
   "execution_count": 13,
   "metadata": {},
   "outputs": [
    {
     "data": {
      "image/png": "[encoded data removed]",
      "text/plain": [
       "<Figure size 432x288 with 2 Axes>"
      ]
     },
     "metadata": {
      "needs_background": "light"
     },
     "output_type": "display_data"
    }
   ],
   "source": [
    "ax = sns.heatmap(matrix, linewidth=0.5)\n",
    "plt.show()"
   ]
  },
  {
   "cell_type": "code",
   "execution_count": 23,
   "metadata": {},
   "outputs": [],
   "source": [
    "with open('largematrix.pickle', 'wb') as file:\n",
    "    pickle.dump(matrix, file)"
   ]
  },
  {
   "cell_type": "code",
   "execution_count": 56,
   "metadata": {},
   "outputs": [
    {
     "name": "stdout",
     "output_type": "stream",
     "text": [
      "0.39102564102564097 0\n",
      "0.7371794871794872 2\n",
      "2.0592948717948714 21\n",
      "3.142628205128204 49\n",
      "0.41025641025641024 73\n"
     ]
    }
   ],
   "source": [
    "name_ = 'hardware wallet'\n",
    "for element in list(matrix[kwid[name_]]):\n",
    "    if element>0.1*max(list(matrix[kwid[name_]])): #0.1*max(list(matrix[kwid[name_]]))\n",
    "        print(element, list(matrix[kwid[name_]]).index(element))"
   ]
  },
  {
   "cell_type": "code",
   "execution_count": 20,
   "metadata": {},
   "outputs": [
    {
     "data": {
      "text/plain": [
       "{'blockchain': 0,\n",
       " 'cryptocurrency': 1,\n",
       " 'bitcoin': 2,\n",
       " 'ethereum': 3,\n",
       " 'nfts': 4,\n",
       " 'smart contracts': 5,\n",
       " 'consensus': 6,\n",
       " 'applications': 7,\n",
       " 'dao': 8,\n",
       " 'defi': 9,\n",
       " 'regulations': 10,\n",
       " 'ico': 11,\n",
       " 'double spending problem': 12,\n",
       " 'white paper': 13,\n",
       " 'bitcoin mining': 14,\n",
       " 'mining': 15,\n",
       " 'merkle tree': 16,\n",
       " 'hash tree': 17,\n",
       " 'halving': 18,\n",
       " 'keys and wallets': 19,\n",
       " 'keys': 20,\n",
       " 'wallets': 21,\n",
       " 'limitations': 22,\n",
       " 'ether': 23,\n",
       " 'decentralised applications': 24,\n",
       " 'dapps': 25,\n",
       " 'zero knowledge proofs': 26,\n",
       " 'forking': 27,\n",
       " 'polygon': 28,\n",
       " 'web3': 29,\n",
       " 'stable coin': 30,\n",
       " 'usdc': 31,\n",
       " 'delegated proof of stake': 32,\n",
       " 'proof of stake': 33,\n",
       " 'proof of work': 34,\n",
       " 'metaverse': 35,\n",
       " 'fragmentation': 36,\n",
       " 'sharding': 37,\n",
       " 'distributed ledger technology': 38,\n",
       " 'apecoin': 39,\n",
       " 'crypto phishing attacks': 40,\n",
       " 'crypto shilling': 41,\n",
       " 'erc 1155': 42,\n",
       " 'erc 721': 43,\n",
       " 'fractional nfts': 44,\n",
       " 'pfp nfts': 45,\n",
       " 'nonce': 46,\n",
       " 'segregated witness': 47,\n",
       " 'multisignature wallets': 48,\n",
       " 'hardware wallet': 49,\n",
       " 'health 3.0': 50,\n",
       " 'centralized exchange': 51,\n",
       " 'decentralized exchange': 52,\n",
       " 'usdt': 53,\n",
       " 'tether': 54,\n",
       " 'dai': 55,\n",
       " 'cardano': 56,\n",
       " 'defi insurance': 57,\n",
       " 'etherscan': 58,\n",
       " 'rarible': 59,\n",
       " 'enjin': 60,\n",
       " 'cake defi': 61,\n",
       " 'ethereum 2.0': 62,\n",
       " 'layer 1': 63,\n",
       " 'layer 2': 64,\n",
       " 'binance smart chain': 65,\n",
       " 'zksnarks': 66,\n",
       " 'zkstarks': 67,\n",
       " 'chainlink': 68,\n",
       " 'axie infinity': 69,\n",
       " 'gamefi': 70,\n",
       " 'makerdao': 71,\n",
       " 'metafi': 72,\n",
       " 'tokens': 73,\n",
       " 'internet of things': 74,\n",
       " 'solana': 75,\n",
       " 'trust wallet': 76,\n",
       " 'ripple': 77,\n",
       " 'liquidity mining': 78,\n",
       " 'tezos': 79,\n",
       " 'custodial wallets': 80,\n",
       " 'non custodial wallets': 81,\n",
       " 'play to earn': 82,\n",
       " 'yield farming': 83,\n",
       " 'uniswap': 84,\n",
       " 'metamask': 85,\n",
       " 'crypto lending': 86,\n",
       " 'byzantine generals problem': 87,\n",
       " 'staking': 88,\n",
       " 'paper wallet': 89,\n",
       " 'software wallet': 90,\n",
       " 'flash loans': 91,\n",
       " 'hot wallet': 92,\n",
       " 'cold wallet': 93,\n",
       " 'algorithmic stablecoins': 94,\n",
       " 'hyperledger fabric': 95,\n",
       " 'tokenization': 96,\n",
       " 'smart contract audit': 97,\n",
       " 'r3 corda': 98,\n",
       " 'ricardian contract': 99}"
      ]
     },
     "execution_count": 20,
     "metadata": {},
     "output_type": "execute_result"
    }
   ],
   "source": [
    "kwid"
   ]
  },
  {
   "cell_type": "code",
   "execution_count": null,
   "metadata": {},
   "outputs": [],
   "source": []
  }
 ],
 "metadata": {
  "kernelspec": {
   "display_name": "Python 3",
   "language": "python",
   "name": "python3"
  },
  "language_info": {
   "codemirror_mode": {
    "name": "ipython",
    "version": 3
   },
   "file_extension": ".py",
   "mimetype": "text/x-python",
   "name": "python",
   "nbconvert_exporter": "python",
   "pygments_lexer": "ipython3",
   "version": "3.8.3"
  }
 },
 "nbformat": 4,
 "nbformat_minor": 4
}
