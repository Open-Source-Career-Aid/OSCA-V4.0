{
 "cells": [
  {
   "cell_type": "code",
   "execution_count": 1,
   "metadata": {},
   "outputs": [],
   "source": [
    "import pickle\n",
    "import pandas as pd\n",
    "import numpy as np\n",
    "from IPython.display import clear_output"
   ]
  },
  {
   "cell_type": "code",
   "execution_count": 23,
   "metadata": {},
   "outputs": [],
   "source": [
    "kwid = pd.read_pickle('kwid.pickle')\n",
    "kwdata = pd.read_pickle('synonymsdata.pickle')\n",
    "matrix = pd.read_pickle('largematrix.pickle')\n",
    "p = pd.read_pickle('p.pickle')"
   ]
  },
  {
   "cell_type": "code",
   "execution_count": 24,
   "metadata": {},
   "outputs": [],
   "source": [
    "for element in p:\n",
    "    kwdata[element[0]]['importance'] = element[1]"
   ]
  },
  {
   "cell_type": "code",
   "execution_count": 27,
   "metadata": {},
   "outputs": [],
   "source": [
    "def out1(a):\n",
    "    return a[1]\n",
    "\n",
    "def reorderconditional(searchid, matrix):\n",
    "    temp = []\n",
    "    for i in range(len(matrix[searchid])):\n",
    "        if i!=searchid:\n",
    "            temp.append([i, matrix[searchid, i]])\n",
    "    temp = sorted(temp, key=out1, reverse=True)\n",
    "    return temp\n",
    "\n",
    "# 80-20% principle\n",
    "def gettopconnections(searchid, matrix, kwdata=None):\n",
    "    print(f\"importnce of {kwdata[searchid]['name']}:{kwdata[searchid]['importance']}\")\n",
    "    totalsum = sum(sum(matrix))\n",
    "    returnthis = []\n",
    "    sigma = sum(matrix[searchid])\n",
    "    temp = reorderconditional(searchid, matrix)\n",
    "    tempsum = 0\n",
    "    i = 0\n",
    "    while True:\n",
    "        returnthis.append(temp[i][0])\n",
    "        tempsum+=temp[i][1]\n",
    "        P = sum(matrix[:, temp[i][0]])/totalsum\n",
    "        p = matrix[searchid, temp[i][0]]/sum(matrix[searchid])\n",
    "        if kwdata is not None:\n",
    "            print(f\"Importance:{kwdata[temp[i][0]]['importance']}, P({kwdata[temp[i][0]]['name']}):{P}, P({kwdata[temp[i][0]]['name']}|{kwdata[searchid]['name']}):{p}\")\n",
    "        if tempsum>0.2*sigma:\n",
    "            break\n",
    "        i+=1\n",
    "    return returnthis"
   ]
  },
  {
   "cell_type": "code",
   "execution_count": 54,
   "metadata": {},
   "outputs": [
    {
     "name": "stdout",
     "output_type": "stream",
     "text": [
      "importnce of nfts:0.02553191489361702\n",
      "Importance:0.1859518106242074, P(blockchain):0.2116505567452529, P(blockchain|nfts):0.07377933625252704\n",
      "Importance:0.04437086092715232, P(token):0.050654252741771905, P(token|nfts):0.05635775043929862\n",
      "Importance:0.08157319994363815, P(crypto):0.07166260991849793, P(crypto|nfts):0.03150423521965357\n",
      "Importance:0.00905664365224743, P(metaverse):0.010821278145324274, P(metaverse|nfts):0.020535334038116103\n",
      "Importance:0.03415879949274341, P(ethereum):0.0326445418952923, P(ethereum|nfts):0.0180252368355046\n"
     ]
    },
    {
     "data": {
      "text/plain": [
       "[57, 525, 139, 341, 229]"
      ]
     },
     "execution_count": 54,
     "metadata": {},
     "output_type": "execute_result"
    }
   ],
   "source": [
    "gettopconnections(kwid['nfts'], matrix, kwdata)"
   ]
  },
  {
   "cell_type": "code",
   "execution_count": 64,
   "metadata": {},
   "outputs": [],
   "source": [
    "### updated functions\n",
    "\n",
    "def reorderconditional(searchid, matrix, transpose=False):\n",
    "    temp = []\n",
    "    if transpose==False:\n",
    "        for i in range(len(matrix[searchid])):\n",
    "            if i!=searchid:\n",
    "                temp.append([i, matrix[searchid, i]])\n",
    "        temp = sorted(temp, key=out1, reverse=True)\n",
    "    elif transpose==True:\n",
    "        for i in range(len(matrix[searchid])):\n",
    "            if i!=searchid:\n",
    "                temp.append([i, matrix[i, searchid]])\n",
    "        temp = sorted(temp, key=out1, reverse=True)\n",
    "    return temp\n",
    "\n",
    "def getprereqs(searchid, matrix=matrix, kwdata=kwdata):\n",
    "    #\n",
    "    returnthis = []\n",
    "    #\n",
    "    psearchterm = kwdata[searchid]['importance']\n",
    "    sigma = sum(matrix[searchid])\n",
    "    conditionalorder = reorderconditional(searchid, matrix)\n",
    "    #\n",
    "    tempsum = 0\n",
    "    i = 0\n",
    "    #\n",
    "    for element in conditionalorder:\n",
    "        tempsum+=element[1]\n",
    "        if element[1]/sigma>psearchterm:\n",
    "            returnthis.append(element[0])\n",
    "        if tempsum>0.2*sigma:\n",
    "            break\n",
    "    #\n",
    "    return returnthis\n",
    "\n",
    "def getroadmap(searchid, matrix=matrix, kwdata=kwdata):\n",
    "    #\n",
    "    returnthis = []\n",
    "#     #\n",
    "#     psearchterm = kwdata[searchid]['importance']\n",
    "#     sigma = sum(matrix[:, searchid])\n",
    "#     conditionalorder = reorderconditional(searchid, matrix, transpose=True)\n",
    "#     #\n",
    "#     tempsum = 0\n",
    "#     i = 0\n",
    "#     #\n",
    "#     for element in conditionalorder:\n",
    "#         tempsum+=element[1]\n",
    "#         if element[1]/sigma<psearchterm:\n",
    "#             returnthis.append(element[0])\n",
    "#         if tempsum>0.2*sigma:\n",
    "#             break\n",
    "#     #\n",
    "    return returnthis\n",
    "\n",
    "def search(searchid):\n",
    "    prereqs = getprereqs(searchid)\n",
    "    roadmap = getroadmap(searchid)\n",
    "    return {'prereqs':prereqs, 'roadmap':roadmap}"
   ]
  },
  {
   "cell_type": "code",
   "execution_count": 68,
   "metadata": {},
   "outputs": [
    {
     "data": {
      "text/plain": [
       "[]"
      ]
     },
     "execution_count": 68,
     "metadata": {},
     "output_type": "execute_result"
    }
   ],
   "source": [
    "[print(kwdata[element]['name']) for element in getroadmap(kwid['consensus'])]"
   ]
  },
  {
   "cell_type": "code",
   "execution_count": null,
   "metadata": {},
   "outputs": [],
   "source": []
  }
 ],
 "metadata": {
  "kernelspec": {
   "display_name": "Python 3",
   "language": "python",
   "name": "python3"
  },
  "language_info": {
   "codemirror_mode": {
    "name": "ipython",
    "version": 3
   },
   "file_extension": ".py",
   "mimetype": "text/x-python",
   "name": "python",
   "nbconvert_exporter": "python",
   "pygments_lexer": "ipython3",
   "version": "3.8.3"
  }
 },
 "nbformat": 4,
 "nbformat_minor": 4
}
