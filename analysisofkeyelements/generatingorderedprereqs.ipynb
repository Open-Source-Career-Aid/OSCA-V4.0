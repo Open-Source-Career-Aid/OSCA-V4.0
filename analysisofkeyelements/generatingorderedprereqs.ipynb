{
 "cells": [
  {
   "cell_type": "code",
   "execution_count": 1,
   "metadata": {},
   "outputs": [],
   "source": [
    "import pickle\n",
    "import pandas as pd\n",
    "import numpy as np\n",
    "from IPython.display import clear_output"
   ]
  },
  {
   "cell_type": "code",
   "execution_count": 2,
   "metadata": {},
   "outputs": [],
   "source": [
    "kwid = pd.read_pickle('kwid.pickle')\n",
    "kwdata = pd.read_pickle('synonymsdata.pickle')\n",
    "matrix = pd.read_pickle('largematrix.pickle')\n",
    "p = pd.read_pickle('p.pickle')"
   ]
  },
  {
   "cell_type": "code",
   "execution_count": 3,
   "metadata": {},
   "outputs": [],
   "source": [
    "for element in p:\n",
    "    kwdata[element[0]]['importance'] = element[1]"
   ]
  },
  {
   "cell_type": "code",
   "execution_count": 4,
   "metadata": {},
   "outputs": [],
   "source": [
    "def out1(a):\n",
    "    return a[1]\n",
    "\n",
    "def reorderconditional(searchid, matrix):\n",
    "    temp = []\n",
    "    for i in range(len(matrix[searchid])):\n",
    "        if i!=searchid:\n",
    "            temp.append([i, matrix[searchid, i]])\n",
    "    temp = sorted(temp, key=out1, reverse=True)\n",
    "    return temp\n",
    "\n",
    "# 80-20% principle\n",
    "def gettopconnections(searchid, matrix, kwdata=None):\n",
    "    print(f\"importnce of {kwdata[searchid]['name']}:{kwdata[searchid]['importance']}\")\n",
    "    totalsum = sum(sum(matrix))\n",
    "    returnthis = []\n",
    "    sigma = sum(matrix[searchid])\n",
    "    temp = reorderconditional(searchid, matrix)\n",
    "    tempsum = 0\n",
    "    i = 0\n",
    "    while True:\n",
    "        returnthis.append(temp[i][0])\n",
    "        tempsum+=temp[i][1]\n",
    "        P = sum(matrix[:, temp[i][0]])/totalsum\n",
    "        p = matrix[searchid, temp[i][0]]/sum(matrix[searchid])\n",
    "        if kwdata is not None:\n",
    "            print(f\"Importance:{kwdata[temp[i][0]]['importance']}, P({kwdata[temp[i][0]]['name']}):{P}, P({kwdata[temp[i][0]]['name']}|{kwdata[searchid]['name']}):{p}\")\n",
    "        if tempsum>0.2*sigma:\n",
    "            break\n",
    "        i+=1\n",
    "    return returnthis"
   ]
  },
  {
   "cell_type": "code",
   "execution_count": 5,
   "metadata": {},
   "outputs": [
    {
     "name": "stdout",
     "output_type": "stream",
     "text": [
      "importnce of bitcoin:0.03677962519374384\n",
      "Importance:0.08157319994363815, P(crypto):0.07166260991849793, P(crypto|bitcoin):0.1059753997911352\n",
      "Importance:0.1859518106242074, P(blockchain):0.2116505567452529, P(blockchain|bitcoin):0.09369735377262836\n",
      "Importance:0.00731647174862618, P(mining):0.008956243197811641, P(mining|bitcoin):0.023040162263817464\n"
     ]
    },
    {
     "data": {
      "text/plain": [
       "[139, 57, 133]"
      ]
     },
     "execution_count": 5,
     "metadata": {},
     "output_type": "execute_result"
    }
   ],
   "source": [
    "gettopconnections(kwid['bitcoin'], matrix, kwdata)"
   ]
  },
  {
   "cell_type": "code",
   "execution_count": 6,
   "metadata": {},
   "outputs": [
    {
     "name": "stdout",
     "output_type": "stream",
     "text": [
      "importnce of proof of work:0.007799070029589968\n",
      "Importance:0.1859518106242074, P(blockchain):0.2116505567452529, P(blockchain|proof of work):0.12771588847108684\n",
      "Importance:0.019120755248696632, P(consensus):0.018723049973257435, P(consensus|proof of work):0.10204011123962595\n"
     ]
    },
    {
     "data": {
      "text/plain": [
       "[57, 111]"
      ]
     },
     "execution_count": 6,
     "metadata": {},
     "output_type": "execute_result"
    }
   ],
   "source": [
    "gettopconnections(kwid['pow'], matrix, kwdata)"
   ]
  },
  {
   "cell_type": "code",
   "execution_count": 7,
   "metadata": {},
   "outputs": [
    {
     "data": {
      "text/plain": [
       "0.005740825576478769"
      ]
     },
     "execution_count": 7,
     "metadata": {},
     "output_type": "execute_result"
    }
   ],
   "source": [
    "matrix[kwid['consensus'], kwid['consensus']]/sum(sum(matrix))"
   ]
  },
  {
   "cell_type": "code",
   "execution_count": 8,
   "metadata": {},
   "outputs": [],
   "source": [
    "### updated functions\n",
    "\n",
    "def reorderconditional(searchid, matrix, transpose=False):\n",
    "    temp = []\n",
    "    if transpose==False:\n",
    "        for i in range(len(matrix[searchid])):\n",
    "            if i!=searchid:\n",
    "                temp.append([i, matrix[searchid, i]])\n",
    "        temp = sorted(temp, key=out1, reverse=True)\n",
    "    elif transpose==True:\n",
    "        for i in range(len(matrix[:, searchid])):\n",
    "            if i!=searchid:\n",
    "                temp.append([i, matrix[i, searchid]])\n",
    "        temp = sorted(temp, key=out1, reverse=True)\n",
    "    return temp\n",
    "\n",
    "def getprereqs(searchid, matrix=matrix, kwdata=kwdata):\n",
    "    #\n",
    "    returnthis = []\n",
    "    #\n",
    "    psearchterm = kwdata[searchid]['importance']\n",
    "    sigma = sum(matrix[searchid])\n",
    "    conditionalorder = reorderconditional(searchid, matrix)\n",
    "    #\n",
    "    tempsum = 0\n",
    "    i = 0\n",
    "    #\n",
    "    for element in conditionalorder:\n",
    "        tempsum+=element[1]\n",
    "        if kwdata[element[0]]['importance']>psearchterm:\n",
    "            returnthis.append(kwdata[element[0]]['name'])\n",
    "        if tempsum>0.2*sigma:\n",
    "            break\n",
    "    #\n",
    "    return returnthis\n",
    "\n",
    "def getroadmap(searchid, matrix=matrix, kwdata=kwdata):\n",
    "    #\n",
    "    returnthis = []\n",
    "    #\n",
    "    psearchterm = kwdata[searchid]['importance']\n",
    "    sigma = sum(matrix[:, searchid])\n",
    "    conditionalorder = reorderconditional(searchid, matrix, transpose=True)\n",
    "    #\n",
    "    tempsum = 0\n",
    "    i = 0\n",
    "    #\n",
    "    for element in conditionalorder:\n",
    "        tempsum+=element[1]\n",
    "        if kwdata[element[0]]['importance']<psearchterm:\n",
    "            returnthis.append(kwdata[element[0]]['name'])\n",
    "        if tempsum>0.2*sigma:\n",
    "            break\n",
    "    return returnthis\n",
    "\n",
    "def search(searchid):\n",
    "    prereqs = getprereqs(searchid)\n",
    "    roadmap = getroadmap(searchid)\n",
    "    return {'prereqs':prereqs, 'roadmap':roadmap}"
   ]
  },
  {
   "cell_type": "code",
   "execution_count": 10,
   "metadata": {},
   "outputs": [
    {
     "data": {
      "text/plain": [
       "{'prereqs': [],\n",
       " 'roadmap': ['crypto',\n",
       "  'decentralized',\n",
       "  'token',\n",
       "  'smart contracts',\n",
       "  'ethereum',\n",
       "  'hyperledger',\n",
       "  'bitcoin',\n",
       "  'consensus',\n",
       "  'nfts',\n",
       "  'healthcare',\n",
       "  'distributed ledger',\n",
       "  'protocol',\n",
       "  'iot',\n",
       "  'scalability',\n",
       "  'ico',\n",
       "  'interoperability',\n",
       "  'dapps']}"
      ]
     },
     "execution_count": 10,
     "metadata": {},
     "output_type": "execute_result"
    }
   ],
   "source": [
    "search(kwid['blockchain'])"
   ]
  },
  {
   "cell_type": "code",
   "execution_count": 11,
   "metadata": {},
   "outputs": [
    {
     "data": {
      "text/plain": [
       "['crypto',\n",
       " 'token',\n",
       " 'bitcoin',\n",
       " 'ethereum',\n",
       " 'decentralized',\n",
       " 'smart contracts',\n",
       " 'nfts',\n",
       " 'protocol',\n",
       " 'consensus',\n",
       " 'ico',\n",
       " 'dapps',\n",
       " 'hyperledger',\n",
       " 'scalability',\n",
       " 'iot',\n",
       " 'distributed ledger',\n",
       " 'healthcare',\n",
       " 'interoperability']"
      ]
     },
     "execution_count": 11,
     "metadata": {},
     "output_type": "execute_result"
    }
   ],
   "source": [
    "def testname(a, kwdata=kwdata, kwid=kwid):\n",
    "    return kwdata[kwid[a]]['importance']\n",
    "\n",
    "sorted(search(kwid['blockchain'])['roadmap'], key=testname, reverse=True)"
   ]
  },
  {
   "cell_type": "code",
   "execution_count": null,
   "metadata": {},
   "outputs": [],
   "source": []
  }
 ],
 "metadata": {
  "kernelspec": {
   "display_name": "Python 3",
   "language": "python",
   "name": "python3"
  },
  "language_info": {
   "codemirror_mode": {
    "name": "ipython",
    "version": 3
   },
   "file_extension": ".py",
   "mimetype": "text/x-python",
   "name": "python",
   "nbconvert_exporter": "python",
   "pygments_lexer": "ipython3",
   "version": "3.8.3"
  }
 },
 "nbformat": 4,
 "nbformat_minor": 4
}
